{
 "cells": [
  {
   "cell_type": "code",
   "execution_count": 80,
   "metadata": {},
   "outputs": [],
   "source": [
    "def xtime(x):\n",
    "    return (x << 1) ^ (((x >> 7) & 0x01) * 0x1b) \n",
    "        \n",
    "def gmult(x, y):\n",
    "    result = (y & 0x01) * x\n",
    "    result ^= (y>>1 & 0x01) * xtime(x)\n",
    "    result ^= (y>>2 & 0x01) * xtime(xtime(x))\n",
    "    result ^= (y>>3 & 0x01) * xtime(xtime(xtime(x)))\n",
    "    result ^= (y>>4 & 0x01) * xtime(xtime(xtime(xtime(x))))\n",
    "    return result & 0xff\n",
    "\n",
    "def mix_columns(state):\n",
    "    for row in range(4):\n",
    "        # temporary variables\n",
    "        a = state[row,0]\n",
    "        b = state[row,1]\n",
    "        c = state[row,2]\n",
    "        d = state[row, 3]\n",
    "        \n",
    "        state[row, 0] = gmult(a, 2) ^ gmult(b, 3) ^ c ^ d\n",
    "        state[row, 1] = a ^ gmult(b, 2) ^ gmult(c, 3) ^ d\n",
    "        state[row, 2] = a ^ b ^ gmult(c, 2) ^ gmult(d, 3)\n",
    "        state[row, 3] = gmult(a, 3) ^ b ^ c ^ gmult(d, 2)\n",
    "    return state"
   ]
  },
  {
   "cell_type": "code",
   "execution_count": 77,
   "metadata": {},
   "outputs": [
    {
     "data": {
      "text/plain": [
       "matrix([[  6,   6,   6,   6],\n",
       "        [210,  46, 141,  88],\n",
       "        [221, 147,  68, 119],\n",
       "        [100, 222,  70, 224]])"
      ]
     },
     "execution_count": 77,
     "metadata": {},
     "output_type": "execute_result"
    }
   ],
   "source": [
    "aes = AES()\n",
    "aes.state"
   ]
  },
  {
   "cell_type": "code",
   "execution_count": 81,
   "metadata": {},
   "outputs": [
    {
     "data": {
      "text/plain": [
       "matrix([[  6,   6,   6,   6],\n",
       "        [181, 237, 234, 155],\n",
       "        [143,  46,  22, 202],\n",
       "        [236,  38, 206,  24]])"
      ]
     },
     "execution_count": 81,
     "metadata": {},
     "output_type": "execute_result"
    }
   ],
   "source": [
    "mix_columns(aes.state)"
   ]
  },
  {
   "cell_type": "code",
   "execution_count": 1,
   "metadata": {},
   "outputs": [],
   "source": [
    "import numpy as np\n",
    "from block_cipher import AES"
   ]
  },
  {
   "cell_type": "code",
   "execution_count": 42,
   "metadata": {},
   "outputs": [
    {
     "data": {
      "text/plain": [
       "(4, 4)"
      ]
     },
     "execution_count": 42,
     "metadata": {},
     "output_type": "execute_result"
    }
   ],
   "source": [
    "aes = AES()\n",
    "aes.state.shape"
   ]
  },
  {
   "cell_type": "code",
   "execution_count": 54,
   "metadata": {},
   "outputs": [],
   "source": [
    "def mixColumns(a, b, c, d):\n",
    "    printHex(gmul(a, 2) ^ gmul(b, 3) ^ gmul(c, 1) ^ gmul(d, 1))\n",
    "    printHex(gmul(a, 1) ^ gmul(b, 2) ^ gmul(c, 3) ^ gmul(d, 1))\n",
    "    printHex(gmul(a, 1) ^ gmul(b, 1) ^ gmul(c, 2) ^ gmul(d, 3))\n",
    "    printHex(gmul(a, 3) ^ gmul(b, 1) ^ gmul(c, 1) ^ gmul(d, 2))\n",
    "    print()\n",
    "\n",
    "def gmul(a, b):\n",
    "    if b == 1:\n",
    "        return a\n",
    "    tmp = (a << 1) & 0xff\n",
    "    if b == 2:\n",
    "        return tmp if a < 128 else tmp ^ 0x1b\n",
    "    if b == 3:\n",
    "        return gmul(a, 2) ^ a\n",
    "def printHex(val):\n",
    "    return print('{:02x}'.format(val), end=' ')"
   ]
  },
  {
   "cell_type": "code",
   "execution_count": 56,
   "metadata": {},
   "outputs": [],
   "source": [
    "def mcm(X,Y):\n",
    "    result=np.zeros((4,4),np.uint64)\n",
    "    for i in range(len(X)):\n",
    "    # iterate through columns of Y\n",
    "      for j in range(Y.shape[1]):\n",
    "        # iterate through rows of Y\n",
    "        for k in range(len(Y)):\n",
    "            result[i,j] = result[i,j] ^ (X[i,k] * Y[k,j])\n",
    "    return result"
   ]
  },
  {
   "cell_type": "code",
   "execution_count": null,
   "metadata": {},
   "outputs": [],
   "source": [
    "def substitution(x, y):\n",
    "    return np.array(\n",
    "            [\n",
    "                self.substitution_lookup_table.reshape((256))[b]\n",
    "                for b in np.nditer(self.state)\n",
    "            ],\n",
    "        ).reshape(self.state.shape)"
   ]
  },
  {
   "cell_type": "code",
   "execution_count": 58,
   "metadata": {},
   "outputs": [
    {
     "data": {
      "text/plain": [
       "[[11, 22, 0, 0], [19, 50, 0, 0], [0, 0, 0, 0], [0, 0, 0, 0]]"
      ]
     },
     "execution_count": 58,
     "metadata": {},
     "output_type": "execute_result"
    }
   ],
   "source": [
    "X = np.array([[1,2],[3,4]])\n",
    "Y = np.array([[5,6],[7,8]])\n",
    "result = [[0,0,0,0],\n",
    "          [0,0,0,0],\n",
    "          [0,0,0,0],\n",
    "          [0,0,0,0]]\n",
    "\n",
    "# iterate through rows of X\n",
    "for i in range(len(X)):\n",
    "   # iterate through columns of Y\n",
    "   for j in range(len(Y[0])):\n",
    "      # iterate through rows of Y\n",
    "      for k in range(len(Y)):\n",
    "         result[i][j] = result[i][j] ^ (X[i][k] * Y[k][j])\n",
    "result"
   ]
  },
  {
   "cell_type": "code",
   "execution_count": 55,
   "metadata": {},
   "outputs": [
    {
     "name": "stdout",
     "output_type": "stream",
     "text": [
      "22 77 00 55 \n"
     ]
    }
   ],
   "source": [
    "mixColumns(0, 17, 34, 51)"
   ]
  },
  {
   "cell_type": "code",
   "execution_count": 53,
   "metadata": {},
   "outputs": [
    {
     "data": {
      "text/plain": [
       "array([[3, 1, 1, 2],\n",
       "       [1, 1, 2, 3],\n",
       "       [1, 2, 3, 1],\n",
       "       [2, 3, 1, 1]], dtype=int64)"
      ]
     },
     "execution_count": 53,
     "metadata": {},
     "output_type": "execute_result"
    }
   ],
   "source": [
    "mcm = np.zeros(shape=(4,4), dtype=np.int64)\n",
    "_starting_mcm = np.array([3,1,1,2])\n",
    "for _ in range(len(_starting_mcm)):\n",
    "    if _ == 0:\n",
    "        mcm[_] = _starting_mcm\n",
    "    else:\n",
    "        mcm[_] = np.roll(mcm[_-1], shift =3)\n",
    "    \n",
    "mcm"
   ]
  },
  {
   "cell_type": "code",
   "execution_count": 44,
   "metadata": {},
   "outputs": [
    {
     "data": {
      "text/plain": [
       "array([[151,  76,   1, 230],\n",
       "       [181, 237, 234, 155],\n",
       "       [143,  46,  22, 202],\n",
       "       [236,  38, 206,  24]])"
      ]
     },
     "execution_count": 44,
     "metadata": {},
     "output_type": "execute_result"
    }
   ],
   "source": [
    "np.array(\n",
    "    [sub_lookup.reshape((256))[b] for b in np.nditer(aes.state)]\n",
    "    ).reshape(aes.state.shape)"
   ]
  },
  {
   "cell_type": "code",
   "execution_count": 41,
   "metadata": {},
   "outputs": [
    {
     "name": "stdout",
     "output_type": "stream",
     "text": [
      "151\n",
      "76\n",
      "1\n",
      "230\n",
      "181\n",
      "237\n",
      "234\n",
      "155\n",
      "143\n",
      "46\n",
      "22\n",
      "202\n",
      "236\n",
      "38\n",
      "206\n",
      "24\n"
     ]
    }
   ],
   "source": [
    "for b in np.nditer(aes.state):\n",
    "    print(sub_lookup.reshape((256))[b])"
   ]
  },
  {
   "cell_type": "code",
   "execution_count": 3,
   "metadata": {},
   "outputs": [
    {
     "data": {
      "text/plain": [
       "matrix([[151,  76,   1, 230],\n",
       "        [181, 237, 234, 155],\n",
       "        [143,  46,  22, 202],\n",
       "        [236,  38, 206,  24]])"
      ]
     },
     "execution_count": 3,
     "metadata": {},
     "output_type": "execute_result"
    }
   ],
   "source": [
    "for r in range(len(aes.state)):\n",
    "    aes.state[r] = np.roll(np.array(aes.state[r]), r)\n",
    "aes.state"
   ]
  },
  {
   "cell_type": "code",
   "execution_count": 13,
   "metadata": {},
   "outputs": [
    {
     "data": {
      "text/plain": [
       "matrix([[164, 179, 163,  60]], dtype=int32)"
      ]
     },
     "execution_count": 13,
     "metadata": {},
     "output_type": "execute_result"
    }
   ],
   "source": [
    "import numpy as np\n",
    "np.bitwise_xor(aes.state[0], aes.state[-1])"
   ]
  },
  {
   "cell_type": "code",
   "execution_count": null,
   "metadata": {},
   "outputs": [],
   "source": [
    "aes.state"
   ]
  },
  {
   "cell_type": "code",
   "execution_count": 4,
   "metadata": {},
   "outputs": [
    {
     "name": "stdout",
     "output_type": "stream",
     "text": [
      "67\n",
      "105\n",
      "97\n",
      "111\n"
     ]
    }
   ],
   "source": [
    "bytes_list = bytes(\"Ciao\", encoding='utf-8')\n",
    "for b in bytes_list:\n",
    "    print(b)"
   ]
  }
 ],
 "metadata": {
  "interpreter": {
   "hash": "db3cb869cddcc94b0253945a0f9b34490413517c39de5f4f02822a11b1db8877"
  },
  "kernelspec": {
   "display_name": "Python 3.9.7 ('base')",
   "language": "python",
   "name": "python3"
  },
  "language_info": {
   "codemirror_mode": {
    "name": "ipython",
    "version": 3
   },
   "file_extension": ".py",
   "mimetype": "text/x-python",
   "name": "python",
   "nbconvert_exporter": "python",
   "pygments_lexer": "ipython3",
   "version": "3.9.7"
  },
  "orig_nbformat": 4
 },
 "nbformat": 4,
 "nbformat_minor": 2
}
