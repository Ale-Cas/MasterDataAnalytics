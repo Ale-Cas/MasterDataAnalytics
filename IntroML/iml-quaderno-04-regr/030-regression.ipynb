{
 "cells": [
  {
   "cell_type": "markdown",
   "metadata": {},
   "source": [
    "<img src=\"img/scikit-learn-logo.png\" width=\"15%\">\n",
    "\n",
    "# Metodi di regressione con `scikit-learn`\n",
    "\n",
    "In questo quaderno dimostriamo l'uso della libreria Python **SciKit-Learn** (`sklearn`) per l'applicazione di modelli di regressione di vario tipo. "
   ]
  },
  {
   "cell_type": "code",
   "execution_count": 1,
   "metadata": {},
   "outputs": [],
   "source": [
    "# Importiamo le varie librerie\n",
    "import numpy as np\n",
    "import pandas as pd         # per leggere il dataset in formato .csv\n",
    "import matplotlib.pyplot as plt \n",
    "%matplotlib inline\n",
    "import sklearn\n",
    "import sklearn.linear_model # per la regressione lineare\n",
    "import sklearn.neighbors    # per la regressione K-Nearest Neighbor\n",
    "from sklearn.metrics import mean_squared_error, r2_score  # misure di qualità (MSE, coefficiente R²)"
   ]
  },
  {
   "cell_type": "markdown",
   "metadata": {},
   "source": [
    "## Regressione lineare per il dataset `Advertising`"
   ]
  },
  {
   "cell_type": "code",
   "execution_count": 2,
   "metadata": {},
   "outputs": [],
   "source": [
    "# Carico il dataset in un oggetto dataframe Pandas (assimilabile ad un ndarray Numpy)\n",
    "df = pd.read_csv('data/Advertising.csv')"
   ]
  },
  {
   "cell_type": "code",
   "execution_count": 3,
   "metadata": {},
   "outputs": [
    {
     "data": {
      "text/html": [
       "<div>\n",
       "<style scoped>\n",
       "    .dataframe tbody tr th:only-of-type {\n",
       "        vertical-align: middle;\n",
       "    }\n",
       "\n",
       "    .dataframe tbody tr th {\n",
       "        vertical-align: top;\n",
       "    }\n",
       "\n",
       "    .dataframe thead th {\n",
       "        text-align: right;\n",
       "    }\n",
       "</style>\n",
       "<table border=\"1\" class=\"dataframe\">\n",
       "  <thead>\n",
       "    <tr style=\"text-align: right;\">\n",
       "      <th></th>\n",
       "      <th>Unnamed: 0</th>\n",
       "      <th>TV</th>\n",
       "      <th>radio</th>\n",
       "      <th>newspaper</th>\n",
       "      <th>sales</th>\n",
       "    </tr>\n",
       "  </thead>\n",
       "  <tbody>\n",
       "    <tr>\n",
       "      <th>0</th>\n",
       "      <td>1</td>\n",
       "      <td>230.1</td>\n",
       "      <td>37.8</td>\n",
       "      <td>69.2</td>\n",
       "      <td>22.1</td>\n",
       "    </tr>\n",
       "    <tr>\n",
       "      <th>1</th>\n",
       "      <td>2</td>\n",
       "      <td>44.5</td>\n",
       "      <td>39.3</td>\n",
       "      <td>45.1</td>\n",
       "      <td>10.4</td>\n",
       "    </tr>\n",
       "    <tr>\n",
       "      <th>2</th>\n",
       "      <td>3</td>\n",
       "      <td>17.2</td>\n",
       "      <td>45.9</td>\n",
       "      <td>69.3</td>\n",
       "      <td>9.3</td>\n",
       "    </tr>\n",
       "    <tr>\n",
       "      <th>3</th>\n",
       "      <td>4</td>\n",
       "      <td>151.5</td>\n",
       "      <td>41.3</td>\n",
       "      <td>58.5</td>\n",
       "      <td>18.5</td>\n",
       "    </tr>\n",
       "    <tr>\n",
       "      <th>4</th>\n",
       "      <td>5</td>\n",
       "      <td>180.8</td>\n",
       "      <td>10.8</td>\n",
       "      <td>58.4</td>\n",
       "      <td>12.9</td>\n",
       "    </tr>\n",
       "    <tr>\n",
       "      <th>...</th>\n",
       "      <td>...</td>\n",
       "      <td>...</td>\n",
       "      <td>...</td>\n",
       "      <td>...</td>\n",
       "      <td>...</td>\n",
       "    </tr>\n",
       "    <tr>\n",
       "      <th>195</th>\n",
       "      <td>196</td>\n",
       "      <td>38.2</td>\n",
       "      <td>3.7</td>\n",
       "      <td>13.8</td>\n",
       "      <td>7.6</td>\n",
       "    </tr>\n",
       "    <tr>\n",
       "      <th>196</th>\n",
       "      <td>197</td>\n",
       "      <td>94.2</td>\n",
       "      <td>4.9</td>\n",
       "      <td>8.1</td>\n",
       "      <td>9.7</td>\n",
       "    </tr>\n",
       "    <tr>\n",
       "      <th>197</th>\n",
       "      <td>198</td>\n",
       "      <td>177.0</td>\n",
       "      <td>9.3</td>\n",
       "      <td>6.4</td>\n",
       "      <td>12.8</td>\n",
       "    </tr>\n",
       "    <tr>\n",
       "      <th>198</th>\n",
       "      <td>199</td>\n",
       "      <td>283.6</td>\n",
       "      <td>42.0</td>\n",
       "      <td>66.2</td>\n",
       "      <td>25.5</td>\n",
       "    </tr>\n",
       "    <tr>\n",
       "      <th>199</th>\n",
       "      <td>200</td>\n",
       "      <td>232.1</td>\n",
       "      <td>8.6</td>\n",
       "      <td>8.7</td>\n",
       "      <td>13.4</td>\n",
       "    </tr>\n",
       "  </tbody>\n",
       "</table>\n",
       "<p>200 rows × 5 columns</p>\n",
       "</div>"
      ],
      "text/plain": [
       "     Unnamed: 0     TV  radio  newspaper  sales\n",
       "0             1  230.1   37.8       69.2   22.1\n",
       "1             2   44.5   39.3       45.1   10.4\n",
       "2             3   17.2   45.9       69.3    9.3\n",
       "3             4  151.5   41.3       58.5   18.5\n",
       "4             5  180.8   10.8       58.4   12.9\n",
       "..          ...    ...    ...        ...    ...\n",
       "195         196   38.2    3.7       13.8    7.6\n",
       "196         197   94.2    4.9        8.1    9.7\n",
       "197         198  177.0    9.3        6.4   12.8\n",
       "198         199  283.6   42.0       66.2   25.5\n",
       "199         200  232.1    8.6        8.7   13.4\n",
       "\n",
       "[200 rows x 5 columns]"
      ]
     },
     "execution_count": 3,
     "metadata": {},
     "output_type": "execute_result"
    }
   ],
   "source": [
    "# Visualizzo alcune righe del dataset\n",
    "df"
   ]
  },
  {
   "cell_type": "markdown",
   "metadata": {},
   "source": [
    "## Regressione lineare semplice"
   ]
  },
  {
   "cell_type": "code",
   "execution_count": 4,
   "metadata": {},
   "outputs": [
    {
     "name": "stdout",
     "output_type": "stream",
     "text": [
      "(200, 1)\n",
      "(200, 1)\n"
     ]
    }
   ],
   "source": [
    "# Estraiamo le colonne di interesse come dataframe individuali\n",
    "X = df[['TV']]     # dati di input\n",
    "y = df[['sales']]  # dati di output\n",
    "# Verifichiamo le dimensioni delle matrici:\n",
    "print(X.shape)\n",
    "print(y.shape)"
   ]
  },
  {
   "cell_type": "code",
   "execution_count": 5,
   "metadata": {},
   "outputs": [],
   "source": [
    "# Costruiamo ed addestriamo un modello di regressione lineare\n",
    "regr = sklearn.linear_model.LinearRegression() # preparo il modello\n",
    "regr.fit(X, y); # addestro il modello (ottimizza i parametri)"
   ]
  },
  {
   "cell_type": "code",
   "execution_count": 6,
   "metadata": {},
   "outputs": [],
   "source": [
    "# Calcoliamo le predizioni del modello sui dati di input\n",
    "y_pred = regr.predict(X)"
   ]
  },
  {
   "cell_type": "code",
   "execution_count": 7,
   "metadata": {},
   "outputs": [
    {
     "data": {
      "image/png": "[encoded data removed]",
      "text/plain": [
       "<Figure size 432x288 with 1 Axes>"
      ]
     },
     "metadata": {
      "needs_background": "light"
     },
     "output_type": "display_data"
    }
   ],
   "source": [
    "# Grafichiamo i dati originali e l'ipotesi lineare\n",
    "plt.scatter(X, y, alpha=0.5)\n",
    "plt.plot(X, y_pred, color='red', linewidth=3)\n",
    "plt.show()"
   ]
  },
  {
   "cell_type": "code",
   "execution_count": 8,
   "metadata": {
    "scrolled": true
   },
   "outputs": [
    {
     "name": "stdout",
     "output_type": "stream",
     "text": [
      "Intercetta: \n",
      " [7.03259355] \n",
      "Coefficienti: \n",
      " [[0.04753664]]\n"
     ]
    }
   ],
   "source": [
    "# Stampiamo l'intercetta e il coefficiente della regressione\n",
    "print('Intercetta: \\n', regr.intercept_, '\\nCoefficienti: \\n', regr.coef_)"
   ]
  },
  {
   "cell_type": "markdown",
   "metadata": {},
   "source": [
    "Questo significa che ogni 1000$ in più di pubblicità TV sono associati mediamente con 47.5 unità di prodotto in più vendute. \n",
    "\n",
    "Verifichiamo ora la qualità del fit sui dati di addestramento. "
   ]
  },
  {
   "cell_type": "code",
   "execution_count": 9,
   "metadata": {},
   "outputs": [
    {
     "name": "stdout",
     "output_type": "stream",
     "text": [
      "Mean squared error (MSE):\n",
      " 10.513\n",
      "Coefficiente R^2:\n",
      " 0.612\n"
     ]
    }
   ],
   "source": [
    "# Stampiamo l'errore quadratico medio\n",
    "print('Mean squared error (MSE):\\n %.3f' % mean_squared_error(y, y_pred))\n",
    "# Stampiamo la statistica R^2 \n",
    "print('Coefficiente R^2:\\n %.3f' % r2_score(y, y_pred))"
   ]
  },
  {
   "cell_type": "markdown",
   "metadata": {},
   "source": [
    "Prediciamo le vendite con un budget per la pubblicità televisiva di 100 mila dollari: "
   ]
  },
  {
   "cell_type": "code",
   "execution_count": 10,
   "metadata": {},
   "outputs": [
    {
     "data": {
      "text/plain": [
       "array([[11.78625759]])"
      ]
     },
     "execution_count": 10,
     "metadata": {},
     "output_type": "execute_result"
    }
   ],
   "source": [
    "regr.predict([[100]])"
   ]
  },
  {
   "cell_type": "markdown",
   "metadata": {},
   "source": [
    "Per un investimento TV di 100000$ si prevede una vendita media di 11786 unità di prodotto. "
   ]
  },
  {
   "cell_type": "markdown",
   "metadata": {},
   "source": [
    "## Separazione di training set e test set\n",
    "\n",
    "Nei passi precedenti ci eravamo dimenticati che per valutare la qualità del modello occorre separare i dati di addestramento da quelli usati per la valutazione! La funzione _train_test_split()_ fa proprio questo. "
   ]
  },
  {
   "cell_type": "code",
   "execution_count": 11,
   "metadata": {},
   "outputs": [
    {
     "name": "stdout",
     "output_type": "stream",
     "text": [
      "Training R^2:\n",
      " 0.591\n",
      "Training MSE:\n",
      " 10.604\n",
      "Test R^2:\n",
      " 0.677\n",
      "Test MSE:\n",
      " 10.205\n"
     ]
    }
   ],
   "source": [
    "from sklearn.model_selection import train_test_split\n",
    "train, test = train_test_split(df, test_size=0.2, random_state=42) # Separo in 80% training - 20% test\n",
    "# Ora costruisco il modello solo con i dati training: \n",
    "X_train = train[['TV']]\n",
    "y_train = train[['sales']]\n",
    "regr.fit(X_train, y_train)\n",
    "y_pred_train = regr.predict(X_train)\n",
    "# Verifico il fit del modello: \n",
    "print('Training R^2:\\n %.3f' % r2_score(y_train, y_pred_train))\n",
    "print('Training MSE:\\n %.3f' % mean_squared_error(y_train, y_pred_train))\n",
    "# Valuto invece il modello sui dati di test: \n",
    "X_test = test[['TV']]\n",
    "y_test = test[['sales']]\n",
    "y_pred_test = regr.predict(X_test)\n",
    "print('Test R^2:\\n %.3f' % r2_score(y_test, y_pred_test))\n",
    "print('Test MSE:\\n %.3f' % mean_squared_error(y_test, y_pred_test))"
   ]
  },
  {
   "cell_type": "markdown",
   "metadata": {},
   "source": [
    "## Modello basato solo su `radio`"
   ]
  },
  {
   "cell_type": "code",
   "execution_count": 13,
   "metadata": {},
   "outputs": [
    {
     "data": {
      "image/png": "[encoded data removed]",
      "text/plain": [
       "<Figure size 432x288 with 1 Axes>"
      ]
     },
     "metadata": {
      "needs_background": "light"
     },
     "output_type": "display_data"
    },
    {
     "name": "stdout",
     "output_type": "stream",
     "text": [
      "Intercetta: \n",
      " [9.42406565] \n",
      "Coefficienti: \n",
      " [[0.20440685]]\n",
      "Training MSE:\n",
      " 16.835\n",
      "Training R^2:\n",
      " 0.351\n"
     ]
    }
   ],
   "source": [
    "# Regressione semplice dell'output 'sales' sulla variabile di input 'radio'\n",
    "X = train[['radio']]\n",
    "y = train[['sales']]\n",
    "regr.fit(X, y)\n",
    "y_pred = regr.predict(X)\n",
    "plt.scatter(X, y, alpha=0.5)\n",
    "plt.plot(X, y_pred, color='red', linewidth=3)\n",
    "plt.show()\n",
    "print('Intercetta: \\n', regr.intercept_, '\\nCoefficienti: \\n', regr.coef_)\n",
    "print('Training MSE:\\n %.3f' % mean_squared_error(y, y_pred))\n",
    "print('Training R^2:\\n %.3f' % r2_score(y, y_pred))\n"
   ]
  },
  {
   "cell_type": "markdown",
   "metadata": {},
   "source": [
    "## Modello basato solo su `newspaper`"
   ]
  },
  {
   "cell_type": "code",
   "execution_count": 15,
   "metadata": {},
   "outputs": [
    {
     "data": {
      "image/png": "[encoded data removed]",
      "text/plain": [
       "<Figure size 432x288 with 1 Axes>"
      ]
     },
     "metadata": {
      "needs_background": "light"
     },
     "output_type": "display_data"
    },
    {
     "name": "stdout",
     "output_type": "stream",
     "text": [
      "Intercetta: \n",
      " [12.31054833] \n",
      "Coefficienti: \n",
      " [[0.0597567]]\n",
      "Training MSE:\n",
      " 24.469\n",
      "Training R^2:\n",
      " 0.057\n"
     ]
    }
   ],
   "source": [
    "# Regressione semplice dell'output 'sales' sulla variabile di input 'newspaper'\n",
    "X = train[['newspaper']]\n",
    "y = train[['sales']]\n",
    "regr.fit(X, y)\n",
    "y_pred = regr.predict(X)\n",
    "plt.scatter(X, y, alpha=0.5)\n",
    "plt.plot(X, y_pred, color='red', linewidth=3)\n",
    "plt.show()\n",
    "print('Intercetta: \\n', regr.intercept_, '\\nCoefficienti: \\n', regr.coef_)\n",
    "print('Training MSE:\\n %.3f' % mean_squared_error(y, y_pred))\n",
    "print('Training R^2:\\n %.3f' % r2_score(y, y_pred))"
   ]
  },
  {
   "cell_type": "markdown",
   "metadata": {},
   "source": [
    "## Modello basato su `TV` e `radio`\n",
    "Il modello basato su entrambe le variabili TV e radio ha un fit nettamente migliore: "
   ]
  },
  {
   "cell_type": "code",
   "execution_count": 16,
   "metadata": {},
   "outputs": [
    {
     "name": "stdout",
     "output_type": "stream",
     "text": [
      "Intercetta: \n",
      " [3.02825525] \n",
      "Coefficienti: \n",
      " [[0.0447283  0.19066726]]\n",
      "Training MSE:\n",
      " 2.708\n",
      "Training R^2:\n",
      " 0.896\n"
     ]
    }
   ],
   "source": [
    "# Regressione multipla dell'output 'sales' sulle variabili di input 'TV' e 'radio'\n",
    "X = train[['TV', 'radio']]\n",
    "y = train[['sales']]\n",
    "regr.fit(X, y)\n",
    "y_pred = regr.predict(X)\n",
    "print('Intercetta: \\n', regr.intercept_, '\\nCoefficienti: \\n', regr.coef_)\n",
    "print('Training MSE:\\n %.3f' % mean_squared_error(y, y_pred))\n",
    "print('Training R^2:\\n %.3f' % r2_score(y, y_pred))\n"
   ]
  },
  {
   "cell_type": "code",
   "execution_count": 17,
   "metadata": {},
   "outputs": [
    {
     "data": {
      "image/png": "[encoded data removed]",
      "text/plain": [
       "<Figure size 432x288 with 1 Axes>"
      ]
     },
     "metadata": {
      "needs_background": "light"
     },
     "output_type": "display_data"
    }
   ],
   "source": [
    "# Distribuzione (istogramma) dei residui y - y_pred\n",
    "(y - y_pred).hist(bins=20);"
   ]
  },
  {
   "cell_type": "code",
   "execution_count": 18,
   "metadata": {},
   "outputs": [
    {
     "data": {
      "text/html": [
       "<div>\n",
       "<style scoped>\n",
       "    .dataframe tbody tr th:only-of-type {\n",
       "        vertical-align: middle;\n",
       "    }\n",
       "\n",
       "    .dataframe tbody tr th {\n",
       "        vertical-align: top;\n",
       "    }\n",
       "\n",
       "    .dataframe thead th {\n",
       "        text-align: right;\n",
       "    }\n",
       "</style>\n",
       "<table border=\"1\" class=\"dataframe\">\n",
       "  <thead>\n",
       "    <tr style=\"text-align: right;\">\n",
       "      <th></th>\n",
       "      <th>count</th>\n",
       "      <th>mean</th>\n",
       "      <th>std</th>\n",
       "      <th>min</th>\n",
       "      <th>25%</th>\n",
       "      <th>50%</th>\n",
       "      <th>75%</th>\n",
       "      <th>max</th>\n",
       "    </tr>\n",
       "  </thead>\n",
       "  <tbody>\n",
       "    <tr>\n",
       "      <th>sales</th>\n",
       "      <td>160.0</td>\n",
       "      <td>2.281508e-15</td>\n",
       "      <td>1.650703</td>\n",
       "      <td>-9.009989</td>\n",
       "      <td>-0.843442</td>\n",
       "      <td>0.249528</td>\n",
       "      <td>1.116467</td>\n",
       "      <td>2.801969</td>\n",
       "    </tr>\n",
       "  </tbody>\n",
       "</table>\n",
       "</div>"
      ],
      "text/plain": [
       "       count          mean       std       min       25%       50%       75%  \\\n",
       "sales  160.0  2.281508e-15  1.650703 -9.009989 -0.843442  0.249528  1.116467   \n",
       "\n",
       "            max  \n",
       "sales  2.801969  "
      ]
     },
     "execution_count": 18,
     "metadata": {},
     "output_type": "execute_result"
    }
   ],
   "source": [
    "# Statistiche sui residui\n",
    "(y - y_pred).describe().transpose()"
   ]
  },
  {
   "cell_type": "markdown",
   "metadata": {},
   "source": [
    "## Modello completo (3 variabili)\n",
    "Inserendo tutte e 3 le variabili di input nel modello, il fit non migliora rispetto all'uso solo di TV e radio. "
   ]
  },
  {
   "cell_type": "code",
   "execution_count": 20,
   "metadata": {},
   "outputs": [
    {
     "name": "stdout",
     "output_type": "stream",
     "text": [
      "Intercetta: \n",
      " [2.97906734] \n",
      "Coefficienti: \n",
      " [[0.04472952 0.18919505 0.00276111]]\n",
      "Training MSE:\n",
      " 2.705\n",
      "Training R^2:\n",
      " 0.896\n"
     ]
    }
   ],
   "source": [
    "# Regressione multipla dell'output 'sales' su tutte e tre le variabili di input\n",
    "X = train[['TV', 'radio', 'newspaper']]\n",
    "y = train[['sales']]\n",
    "regr.fit(X, y)\n",
    "y_pred = regr.predict(X)\n",
    "print('Intercetta: \\n', regr.intercept_, '\\nCoefficienti: \\n', regr.coef_)\n",
    "print('Training MSE:\\n %.3f' % mean_squared_error(y, y_pred))\n",
    "print('Training R^2:\\n %.3f' % r2_score(y, y_pred))"
   ]
  },
  {
   "cell_type": "markdown",
   "metadata": {},
   "source": [
    "## Aggiunta di una interazione nonlineare (feature crossing)"
   ]
  },
  {
   "cell_type": "code",
   "execution_count": 21,
   "metadata": {},
   "outputs": [
    {
     "name": "stdout",
     "output_type": "stream",
     "text": [
      "Training MSE:\n",
      " 0.690\n",
      "Training R^2:\n",
      " 0.973\n",
      "Test MSE:\n",
      " 1.644\n"
     ]
    }
   ],
   "source": [
    "df2 = df.copy() # copio il dataset per non \"sporcare\" l'originale\n",
    "df2['TV x radio'] = df['TV'] * df['radio'] # creo una nuova colonna\n",
    "train, test = train_test_split(df2, test_size=0.2, random_state=0) # Split 80%-20% \n",
    "X_train = train[['TV', 'radio', 'TV x radio']]\n",
    "y_train = train[['sales']]\n",
    "X_test = test[['TV', 'radio', 'TV x radio']]\n",
    "y_test = test[['sales']]\n",
    "regr.fit(X_train, y_train)\n",
    "y_pred_train = regr.predict(X_train)\n",
    "print('Training MSE:\\n %.3f' % mean_squared_error(y_train, y_pred_train))\n",
    "print('Training R^2:\\n %.3f' % r2_score(y_train, y_pred_train))\n",
    "y_pred_test = regr.predict(X_test)\n",
    "print('Test MSE:\\n %.3f' % mean_squared_error(y_test, y_pred_test))"
   ]
  },
  {
   "cell_type": "markdown",
   "metadata": {},
   "source": [
    "## Regressione polinomiale"
   ]
  },
  {
   "cell_type": "code",
   "execution_count": 22,
   "metadata": {},
   "outputs": [
    {
     "name": "stdout",
     "output_type": "stream",
     "text": [
      "230.1\n",
      "[2.30100000e+02 5.29460100e+04 1.21828769e+07]\n"
     ]
    }
   ],
   "source": [
    "# Regressione polinomiale\n",
    "X = df[['TV']]\n",
    "y = df[['sales']]\n",
    "poly_features = sklearn.preprocessing.PolynomialFeatures(degree=3, include_bias=False)\n",
    "X_poly = poly_features.fit_transform(X)\n",
    "print(X.iloc[0][0])\n",
    "print(X_poly[0])"
   ]
  },
  {
   "cell_type": "code",
   "execution_count": 23,
   "metadata": {
    "scrolled": true
   },
   "outputs": [
    {
     "data": {
      "image/png": "[encoded data removed]",
      "text/plain": [
       "<Figure size 432x288 with 1 Axes>"
      ]
     },
     "metadata": {
      "needs_background": "light"
     },
     "output_type": "display_data"
    },
    {
     "name": "stdout",
     "output_type": "stream",
     "text": [
      "Intercetta: \n",
      " [5.42010655] \n",
      "Coefficienti: \n",
      " [[ 9.64341770e-02 -3.15222433e-04  5.57199796e-07]]\n"
     ]
    }
   ],
   "source": [
    "regr = sklearn.linear_model.LinearRegression()\n",
    "regr.fit(X_poly, y);\n",
    "# Calcoliamo le predizioni sull'intero range da 0.0 a 40.0\n",
    "y_pred = regr.predict(X_poly)\n",
    "X_poly_all = poly_features.fit_transform(np.c_[np.arange(0.0, 300.0, 0.5)]) # np.c_ rende il range un array colonna 2D\n",
    "y_pred_all = regr.predict(X_poly_all)\n",
    "# Grafichiamo i dati originali e l'ipotesi\n",
    "plt.scatter(X_poly[:,0], y, alpha=0.5)\n",
    "plt.plot(X_poly_all[:,0], y_pred_all, color='red', linewidth=3)\n",
    "plt.show()\n",
    "print('Intercetta: \\n', regr.intercept_, '\\nCoefficienti: \\n', regr.coef_)"
   ]
  },
  {
   "cell_type": "code",
   "execution_count": 24,
   "metadata": {},
   "outputs": [
    {
     "name": "stdout",
     "output_type": "stream",
     "text": [
      "Training MSE:\n",
      " 10.238\n"
     ]
    }
   ],
   "source": [
    "# Stampiamo l'errore quadratico medio\n",
    "print('Training MSE:\\n %.3f' % mean_squared_error(y, y_pred))"
   ]
  },
  {
   "cell_type": "markdown",
   "metadata": {},
   "source": [
    "## Regressione non parametrica (K-Nearest Neighbors)"
   ]
  },
  {
   "cell_type": "code",
   "execution_count": 37,
   "metadata": {},
   "outputs": [
    {
     "data": {
      "image/png": "[encoded data removed]",
      "text/plain": [
       "<Figure size 432x288 with 1 Axes>"
      ]
     },
     "metadata": {
      "needs_background": "light"
     },
     "output_type": "display_data"
    }
   ],
   "source": [
    "X_train = train[['TV']]\n",
    "y_train = train[['sales']]\n",
    "knn = sklearn.neighbors.KNeighborsRegressor(n_neighbors=21) # il parametro K è controllato da n_neighbors\n",
    "knn.fit(X_train, y_train)\n",
    "y_pred_train = knn.predict(X_train)\n",
    "X = np.c_[np.arange(0.0, 300.0, 1.0)]\n",
    "y_pred = knn.predict(X)\n",
    "# Grafichiamo i dati originali...\n",
    "plt.scatter(X_train, y_train, alpha=0.5)\n",
    "# ...e le predizioni Nearest Neighbor\n",
    "plt.plot(X, y_pred, color='red', linewidth=3)\n",
    "plt.show()"
   ]
  },
  {
   "cell_type": "code",
   "execution_count": 38,
   "metadata": {},
   "outputs": [
    {
     "name": "stdout",
     "output_type": "stream",
     "text": [
      "Training MSE:\n",
      " 10.410\n",
      "Test MSE:\n",
      " 11.147\n"
     ]
    }
   ],
   "source": [
    "print('Training MSE:\\n %.3f' % mean_squared_error(y_train, y_pred_train))\n",
    "X_test = test[['TV']]\n",
    "y_test = test[['sales']]\n",
    "y_pred_test = knn.predict(X_test)\n",
    "print('Test MSE:\\n %.3f' % mean_squared_error(y_test, y_pred_test))"
   ]
  },
  {
   "cell_type": "markdown",
   "metadata": {},
   "source": [
    "## Regressione lineare tramite Stochastic Gradient Descent"
   ]
  },
  {
   "cell_type": "code",
   "execution_count": 39,
   "metadata": {},
   "outputs": [
    {
     "name": "stdout",
     "output_type": "stream",
     "text": [
      "Training R^2:\n",
      " 0.971\n",
      "Training MSE:\n",
      " 0.742\n",
      "Test MSE:\n",
      " 1.814\n"
     ]
    }
   ],
   "source": [
    "X_train = train[['TV', 'radio', 'TV x radio']]\n",
    "y_train = train['sales']    # notare la parentesi singola: \n",
    "                            # SGDRegressor richiede un array 1D di forma (n_samples,), non una matrice\n",
    "X_test = test[['TV', 'radio', 'TV x radio']]\n",
    "y_test = test['sales']\n",
    "from sklearn.pipeline import make_pipeline\n",
    "sgd = make_pipeline(sklearn.preprocessing.StandardScaler(), # preprocessiamo i dati scalandoli\n",
    "                    sklearn.linear_model.SGDRegressor(loss='squared_loss', penalty='none', \n",
    "                                                      learning_rate='constant', eta0=0.1, max_iter=2000))\n",
    "sgd.fit(X_train, y_train);\n",
    "y_pred_train = sgd.predict(X_train)\n",
    "print('Training R^2:\\n %.3f' % r2_score(y_train, y_pred_train))\n",
    "print('Training MSE:\\n %.3f' % mean_squared_error(y_train, y_pred_train))\n",
    "y_pred_test = sgd.predict(X_test)\n",
    "print('Test MSE:\\n %.3f' % mean_squared_error(y_test, y_pred_test))"
   ]
  },
  {
   "cell_type": "markdown",
   "metadata": {},
   "source": [
    "## Esercizi: Regressione lineare e polinomiale per il dataset `boston_house_prices`"
   ]
  },
  {
   "cell_type": "markdown",
   "metadata": {},
   "source": [
    "Carichiamo il dataset `data/boston_house_prices.csv` e grafichiamo uno scatter plot tra la variabile di input `LSTAT` e la variabile di output `MEDV`. "
   ]
  },
  {
   "cell_type": "code",
   "execution_count": 6,
   "metadata": {},
   "outputs": [
    {
     "data": {
      "image/png": "[encoded data removed]",
      "text/plain": [
       "<Figure size 432x288 with 1 Axes>"
      ]
     },
     "metadata": {
      "needs_background": "light"
     },
     "output_type": "display_data"
    }
   ],
   "source": [
    "boston = pd.read_csv('data/boston_house_prices.csv')\n",
    "boston.plot.scatter('LSTAT', 'MEDV', alpha=0.5);"
   ]
  },
  {
   "cell_type": "code",
   "execution_count": 12,
   "metadata": {},
   "outputs": [
    {
     "data": {
      "text/plain": [
       "0      4.98\n",
       "1      9.14\n",
       "2      4.03\n",
       "3      2.94\n",
       "4      5.33\n",
       "       ... \n",
       "501    9.67\n",
       "502    9.08\n",
       "503    5.64\n",
       "504    6.48\n",
       "505    7.88\n",
       "Name: LSTAT, Length: 506, dtype: float64"
      ]
     },
     "execution_count": 12,
     "metadata": {},
     "output_type": "execute_result"
    }
   ],
   "source": [
    "boston[\"LSTAT\"]"
   ]
  },
  {
   "cell_type": "markdown",
   "metadata": {},
   "source": [
    "**Esercizio 1**. Utilizzando l'intero dataset come training set, costruire una regressione lineare tra la variabile di input `LSTAT` e la variabile di output `MEDV`. Calcolare l'intercetta e il coefficiente della regressione. Calcolare l'errore quadratico medio ed il coefficiente $R^2$. "
   ]
  },
  {
   "cell_type": "code",
   "execution_count": 15,
   "metadata": {},
   "outputs": [],
   "source": [
    "regr = sklearn.linear_model.LinearRegression() # preparo il modello\n",
    "lin_regr = regr.fit(boston[[\"LSTAT\"]].values, boston[[\"MEDV\"]].values)"
   ]
  },
  {
   "cell_type": "code",
   "execution_count": 20,
   "metadata": {},
   "outputs": [
    {
     "data": {
      "text/plain": [
       "array([34.55384088])"
      ]
     },
     "execution_count": 20,
     "metadata": {},
     "output_type": "execute_result"
    }
   ],
   "source": [
    "lin_regr.intercept_"
   ]
  },
  {
   "cell_type": "code",
   "execution_count": 21,
   "metadata": {},
   "outputs": [
    {
     "data": {
      "text/plain": [
       "array([[-0.95004935]])"
      ]
     },
     "execution_count": 21,
     "metadata": {},
     "output_type": "execute_result"
    }
   ],
   "source": [
    "lin_regr.coef_"
   ]
  },
  {
   "cell_type": "code",
   "execution_count": 17,
   "metadata": {},
   "outputs": [],
   "source": [
    "y_pred = regr.predict(boston[[\"LSTAT\"]].values)"
   ]
  },
  {
   "cell_type": "code",
   "execution_count": 18,
   "metadata": {},
   "outputs": [
    {
     "data": {
      "text/plain": [
       "0.5441462975864799"
      ]
     },
     "execution_count": 18,
     "metadata": {},
     "output_type": "execute_result"
    }
   ],
   "source": [
    "r2_score(boston[[\"MEDV\"]].values, y_pred)"
   ]
  },
  {
   "cell_type": "code",
   "execution_count": 19,
   "metadata": {},
   "outputs": [
    {
     "data": {
      "text/plain": [
       "38.48296722989414"
      ]
     },
     "execution_count": 19,
     "metadata": {},
     "output_type": "execute_result"
    }
   ],
   "source": [
    "mean_squared_error(boston[[\"MEDV\"]].values, y_pred)"
   ]
  },
  {
   "cell_type": "markdown",
   "metadata": {},
   "source": [
    "**Esercizio 2**. Utilizzando l'intero dataset come training set, costruire una regressione polinomiale di grado $3$ a partire dalla stessa coppia di variabili (input `LSTAT`, output `MEDV`). Calcolare l'errore quadratico medio così ottenuto."
   ]
  },
  {
   "cell_type": "code",
   "execution_count": 23,
   "metadata": {},
   "outputs": [],
   "source": [
    "poly_features = sklearn.preprocessing.PolynomialFeatures(degree=3, include_bias=False)\n",
    "X_poly = poly_features.fit_transform(boston[[\"LSTAT\"]])\n",
    "regr = sklearn.linear_model.LinearRegression()\n",
    "regr.fit(X_poly, boston[[\"MEDV\"]]);\n",
    "# Calcoliamo le predizioni sull'intero range da 0.0 a 40.0\n",
    "y_pred = regr.predict(X_poly)"
   ]
  },
  {
   "cell_type": "code",
   "execution_count": 24,
   "metadata": {},
   "outputs": [
    {
     "data": {
      "text/plain": [
       "28.884350319213173"
      ]
     },
     "execution_count": 24,
     "metadata": {},
     "output_type": "execute_result"
    }
   ],
   "source": [
    "mean_squared_error(boston[[\"MEDV\"]].values, y_pred)"
   ]
  }
 ],
 "metadata": {
  "kernelspec": {
   "display_name": "Python 3.10.5",
   "language": "python",
   "name": "python3"
  },
  "language_info": {
   "codemirror_mode": {
    "name": "ipython",
    "version": 3
   },
   "file_extension": ".py",
   "mimetype": "text/x-python",
   "name": "python",
   "nbconvert_exporter": "python",
   "pygments_lexer": "ipython3",
   "version": "3.10.5"
  },
  "vscode": {
   "interpreter": {
    "hash": "e034670f4a0bfea4dae282f086d0f7dff1162169df7a770ce6f2f25597f02a4b"
   }
  }
 },
 "nbformat": 4,
 "nbformat_minor": 4
}
