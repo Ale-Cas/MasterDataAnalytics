{
 "cells": [
  {
   "cell_type": "code",
   "execution_count": 3,
   "metadata": {},
   "outputs": [],
   "source": [
    "import igraph\n",
    "import requests"
   ]
  },
  {
   "cell_type": "code",
   "execution_count": null,
   "metadata": {},
   "outputs": [],
   "source": [
    "net_base_url = \"https://networks.skewed.de/api\"\n",
    "prod_space = \"/net/product_space/files/SITC.gt.zst\"\n",
    "response = requests.get()"
   ]
  },
  {
   "cell_type": "code",
   "execution_count": null,
   "metadata": {},
   "outputs": [],
   "source": [
    "visual_style = {\"bbox\":(200,200), \"margin\":30}\n",
    "\n",
    "G = igraph.Graph()\n",
    "G.add_vertices(6)\n",
    "G.vs['label'] = range(1,7)\n",
    "G.add_edges([(0,1),(0,4),(1,2),(1,3),(2,3),(2,4),(2,5)])\n",
    "\n",
    "print('this is G:')\n",
    "igraph.plot(G, **visual_style)"
   ]
  }
 ],
 "metadata": {
  "interpreter": {
   "hash": "6a7b2268707773985d0848bd643314d3946725cf7770157f941785e3082854a3"
  },
  "kernelspec": {
   "display_name": "Python 3.10.4 ('masterdata')",
   "language": "python",
   "name": "python3"
  },
  "language_info": {
   "codemirror_mode": {
    "name": "ipython",
    "version": 3
   },
   "file_extension": ".py",
   "mimetype": "text/x-python",
   "name": "python",
   "nbconvert_exporter": "python",
   "pygments_lexer": "ipython3",
   "version": "3.10.4"
  },
  "orig_nbformat": 4
 },
 "nbformat": 4,
 "nbformat_minor": 2
}
