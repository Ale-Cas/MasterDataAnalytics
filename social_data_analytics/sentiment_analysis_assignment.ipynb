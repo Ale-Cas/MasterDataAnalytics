{
 "cells": [
  {
   "cell_type": "markdown",
   "metadata": {},
   "source": [
    "### Setting up the environment"
   ]
  },
  {
   "cell_type": "code",
   "execution_count": null,
   "metadata": {},
   "outputs": [],
   "source": [
    "%conda install -y -c conda-forge scipy nltk seaborn textblob pytables"
   ]
  },
  {
   "cell_type": "code",
   "execution_count": 2,
   "metadata": {},
   "outputs": [
    {
     "name": "stderr",
     "output_type": "stream",
     "text": [
      "[nltk_data] Downloading package wordnet to\n",
      "[nltk_data]     /Users/alcastrica/nltk_data...\n",
      "[nltk_data]   Package wordnet is already up-to-date!\n",
      "[nltk_data] Downloading package stopwords to\n",
      "[nltk_data]     /Users/alcastrica/nltk_data...\n",
      "[nltk_data]   Package stopwords is already up-to-date!\n",
      "[nltk_data] Downloading package omw-1.4 to\n",
      "[nltk_data]     /Users/alcastrica/nltk_data...\n",
      "[nltk_data]   Package omw-1.4 is already up-to-date!\n",
      "[nltk_data] Downloading package vader_lexicon to\n",
      "[nltk_data]     /Users/alcastrica/nltk_data...\n",
      "[nltk_data]   Package vader_lexicon is already up-to-date!\n"
     ]
    }
   ],
   "source": [
    "import numpy as np\n",
    "import pandas as pd\n",
    "import json, nltk\n",
    "import matplotlib.pyplot as plt\n",
    "import requests\n",
    "import re\n",
    "from nltk.sentiment.vader import SentimentIntensityAnalyzer\n",
    "from sklearn.feature_extraction.text import CountVectorizer\n",
    "from sklearn.model_selection import train_test_split\n",
    "from sklearn.naive_bayes import MultinomialNB  \n",
    "from sklearn.metrics import confusion_matrix, accuracy_score, classification_report, roc_curve, auc\n",
    "\n",
    "import seaborn as sns\n",
    "nltk.download('wordnet')  \n",
    "nltk.download('stopwords')\n",
    "nltk.download('omw-1.4')\n",
    "nltk.downloader.download('vader_lexicon')\n",
    "\n",
    "%matplotlib inline\n",
    "\n",
    "#this opinion is used for setting Pandas DataFrame to show non-truncated table\n",
    "pd.set_option('display.max_colwidth', None)"
   ]
  },
  {
   "cell_type": "markdown",
   "metadata": {},
   "source": [
    "### Load Data"
   ]
  },
  {
   "cell_type": "code",
   "execution_count": 3,
   "metadata": {},
   "outputs": [],
   "source": [
    "# ## This cell install the API to get necessary data ##\n",
    "# %pip install alpaca-trade-api\n",
    "# from alpaca_trade_api import REST\n",
    "# rest_client = REST(\"API_KEY\", \"SECRET_KEY\") # These should be replaced with private API keys\n",
    "# news = rest_client.get_news(symbol=\"AAPL\", start=\"2020-06-01\", end=\"2022-06-01\", limit=1e6)\n",
    "# summaries = {new.created_at:new.summary for new in news if new.summary}\n",
    "# news_series = pd.Series(summaries, name=\"News Summaries\")\n",
    "# prices = rest_client.get_bars(symbol=\"AAPL\", start=\"2020-06-01\", end=\"2022-06-01\", limit=1e6, timeframe=\"1Day\", adjustment=\"all\").df[\"vwap\"]\n",
    "\n",
    "# ## Save data to h5 file ##\n",
    "# news_series.to_hdf(\"news_sentiment.h5\",\"summaries\", \"w\")\n",
    "# prices.to_hdf(\"news_sentiment.h5\",\"prices\", \"a\") # append prices to h5 file"
   ]
  },
  {
   "cell_type": "code",
   "execution_count": 4,
   "metadata": {},
   "outputs": [],
   "source": [
    "# This cell load the data from the attached .h5 file\n",
    "news_series = pd.read_hdf(\"news_sentiment.h5\",\"summaries\")\n",
    "prices = pd.read_hdf(\"news_sentiment.h5\",\"prices\")"
   ]
  },
  {
   "cell_type": "code",
   "execution_count": 5,
   "metadata": {},
   "outputs": [],
   "source": [
    "# Load contractions json file from the assets folder\n",
    "with open('../social_data_analytics/sentiment_analysis/assets/contractions.json', 'r') as f:\n",
    "    contractions_dict = json.load(f)\n",
    "contractions = contractions_dict['contractions']"
   ]
  },
  {
   "cell_type": "markdown",
   "metadata": {},
   "source": [
    "### Preprocess data"
   ]
  },
  {
   "cell_type": "code",
   "execution_count": 6,
   "metadata": {},
   "outputs": [],
   "source": [
    "def remove_emoji(text: str) -> str:\n",
    "    \"\"\"Function to remove all emojis from a certain text.\"\"\"\n",
    "    # Smile -- :), : ), :-), (:, ( :, (-:, :') , :O\n",
    "    text = re.sub(r'(:\\s?\\)|:-\\)|\\(\\s?:|\\(-:|:\\'\\)|:O)', ' positiveemoji ', text)\n",
    "    # Laugh -- :D, : D, :-D, xD, x-D, XD, X-D\n",
    "    text = re.sub(r'(:\\s?D|:-D|x-?D|X-?D)', ' positiveemoji ', text)\n",
    "    # Love -- <3, :*\n",
    "    text = re.sub(r'(<3|:\\*)', ' positiveemoji ', text)\n",
    "    # Wink -- ;-), ;), ;-D, ;D, (;,  (-; , @-)\n",
    "    text = re.sub(r'(;-?\\)|;-?D|\\(-?;|@-\\))', ' positiveemoji ', text)\n",
    "    # Sad -- :-(, : (, :(, ):, )-:, :-/ , :-|\n",
    "    text = re.sub(r'(:\\s?\\(|:-\\(|\\)\\s?:|\\)-:|:-/|:-\\|)', ' negetiveemoji ', text)\n",
    "    # Cry -- :,(, :'(, :\"(\n",
    "    text = re.sub(r'(:,\\(|:\\'\\(|:\"\\()', ' negetiveemoji ', text)\n",
    "    return text"
   ]
  },
  {
   "cell_type": "code",
   "execution_count": 7,
   "metadata": {},
   "outputs": [],
   "source": [
    "def process_text(text: str) -> str:\n",
    "    \"\"\"Function to format text in the proper way.\"\"\"\n",
    "    text = text.lower()                                             # Lowercases the string\n",
    "    text = re.sub('@[^\\s]+', '', text)                              # Removes usernames\n",
    "    text = re.sub('((www\\.[^\\s]+)|(https?://[^\\s]+))', ' ', text)   # Remove URLs\n",
    "    text = re.sub(r\"\\d+\", \" \", str(text))                           # Removes all digits\n",
    "    text = re.sub('&quot;',\" \", text)                               # Remove (&quot;) \n",
    "    text = remove_emoji(text)                                              # Replaces Emojis\n",
    "    text = re.sub(r\"\\b[a-zA-Z]\\b\", \"\", str(text))                   # Removes all single characters\n",
    "    \n",
    "    #simple tokenization using split()\n",
    "    for word in text.split():\n",
    "        if word.lower() in contractions:\n",
    "            text = text.replace(word, contractions[word.lower()])   # Replaces contractions\n",
    "    text = re.sub(r\"[^\\w\\s]\", \" \", str(text))                       # Removes all punctuations\n",
    "    text = re.sub(r'(.)\\1+', r'\\1\\1', text)    # Convert more than 2 letter repetitions to 2 letter (e.g., cooool)\n",
    "    text = re.sub(r\"\\s+\", \" \", str(text))      # Replaces extra spaces with a single space    \n",
    "    return text\n"
   ]
  },
  {
   "cell_type": "code",
   "execution_count": 8,
   "metadata": {},
   "outputs": [],
   "source": [
    "# resampling to daily frequency\n",
    "news_series = news_series.resample(\"d\").sum()\n",
    "# resample returns on news index\n",
    "prices: pd.Series = prices.resample(\"d\").ffill()\n",
    "returns = prices.pct_change()"
   ]
  },
  {
   "cell_type": "code",
   "execution_count": 9,
   "metadata": {},
   "outputs": [],
   "source": [
    "# Process news\n",
    "processed_news = np.vectorize(process_text)(news_series.astype(str).values)"
   ]
  },
  {
   "cell_type": "code",
   "execution_count": 10,
   "metadata": {},
   "outputs": [],
   "source": [
    "# Process prices into market sentiment\n",
    "market_sentiment = returns > 0.0 # all positive returns will be True"
   ]
  },
  {
   "cell_type": "code",
   "execution_count": 11,
   "metadata": {},
   "outputs": [
    {
     "data": {
      "text/html": [
       "<div>\n",
       "<style scoped>\n",
       "    .dataframe tbody tr th:only-of-type {\n",
       "        vertical-align: middle;\n",
       "    }\n",
       "\n",
       "    .dataframe tbody tr th {\n",
       "        vertical-align: top;\n",
       "    }\n",
       "\n",
       "    .dataframe thead th {\n",
       "        text-align: right;\n",
       "    }\n",
       "</style>\n",
       "<table border=\"1\" class=\"dataframe\">\n",
       "  <thead>\n",
       "    <tr style=\"text-align: right;\">\n",
       "      <th></th>\n",
       "      <th>news</th>\n",
       "      <th>processed_news</th>\n",
       "      <th>returns</th>\n",
       "      <th>market_sentiment</th>\n",
       "    </tr>\n",
       "  </thead>\n",
       "  <tbody>\n",
       "    <tr>\n",
       "      <th>2020-06-03 00:00:00+00:00</th>\n",
       "      <td>Peloton Interactive Inc. (NASDAQ: PTON) has made its fitness app available on Apple Inc.&amp;#39;s (NASDAQ: AAPL) TV devices.Warner Music is set to list at the Nasdaq Stock Market on Wednesday.\\n\\nWarner Music Could Kickstart A String Of IPOs This Year\\n\\nThe record label giant is expected to price the initial public offering between $23 to $26 per share, and raise between $11.7 billion and $13.3 billion. \\n\\nData from Sensor Tower points to Apple Inc. (NASDAQ: AAPL) growing its App Store net revenue by 39% year-over-year in May, and this trend bodes well for the stock, according to Morgan Stanley.Warner Music Group Corp. priced its 77-million-share IPO at $25 per share, and the stock opened higher Wednesday at $27.</td>\n",
       "      <td>peloton interactive inc nasdaq pton has made its fitness app available on apple inc nasdaq aapl tv devices warner music is set to list at the nasdaq stock market on wednesday warner music could kickstart string of ipos this year the record label giant is expected to price the initial public offering between to per share and raise between billion and billion data from sensor tower points to apple inc nasdaq aapl growing its app store net revenue by year over year in may and this trend bodes well for the stock according to morgan stanley warner music group corp priced its million share ipo at per share and the stock opened higher wednesday at</td>\n",
       "      <td>0.002149</td>\n",
       "      <td>1</td>\n",
       "    </tr>\n",
       "    <tr>\n",
       "      <th>2020-06-04 00:00:00+00:00</th>\n",
       "      <td>The shares of Genius Brands International Inc. (NASDAQ: GNUS), a company until recently struggling to keep itself listed on Nasdaq, have added 2458% since May.\\n\\nThe surge has come following a string of operational advancements and investments announced by the children entertainment company.Of the five component FAANG stocks — Facebook, Inc. (NASDAQ: FB), Amazon.com, Inc (NASDAQ: AMZN), Apple, Inc. (NASDAQ: AAPL),</td>\n",
       "      <td>the shares of genius brands international inc nasdaq gnus company until recently struggling to keep itself listed on nasdaq have added since may the surge has come following string of operational advancements and investments announced by the children entertainment company of the five component faang stocks facebook inc nasdaq fb amazon com inc nasdaq amzn apple inc nasdaq aapl</td>\n",
       "      <td>0.008703</td>\n",
       "      <td>1</td>\n",
       "    </tr>\n",
       "    <tr>\n",
       "      <th>2020-06-05 00:00:00+00:00</th>\n",
       "      <td>Apple Inc. (NASDAQ: AAPL) has weathered the economic impact of the novel coronavirus pandemic in a &amp;#34;Jacques Cousteau-like fashion,&amp;#34; and the consumer electronics company Companies in the United States raised $22.5 billion in the bond market this week, the Financial Times reported on Friday, based on EPFR Global data.FaZe Clan, one of the most prominent gaming organizations, recently celebrated its 10-year anniversary by announcing multiple collaborations and partnerships with different companies.During Friday&amp;#39;s morning session, 115 companies made new 52-week highs.Benzinga&amp;#39;s PreMarket Prep airs every morning from 8-9 a.m. ET. During that fast-paced, highly informative hour, traders and investors tune in to get the major news of the day, the catalysts behind those moves and the corresponding price action for the upcoming session.</td>\n",
       "      <td>apple inc nasdaq aapl has weathered the economic impact of the novel coronavirus pandemic in jacques cousteau like fashion and the consumer electronics company companies in the united states raised billion in the bond market this week the financial times reported on friday based on epfr global data faze clan one of the most prominent gaming organizations recently celebrated its year anniversary by announcing multiple collaborations and partnerships with different companies during friday morning session companies made new week highs benzinga premarket prep airs every morning from et during that fast paced highly informative hour traders and investors tune in to get the major news of the day the catalysts behind those moves and the corresponding price action for the upcoming session</td>\n",
       "      <td>-0.003126</td>\n",
       "      <td>0</td>\n",
       "    </tr>\n",
       "    <tr>\n",
       "      <th>2020-06-06 00:00:00+00:00</th>\n",
       "      <td>0</td>\n",
       "      <td></td>\n",
       "      <td>0.017938</td>\n",
       "      <td>1</td>\n",
       "    </tr>\n",
       "    <tr>\n",
       "      <th>2020-06-07 00:00:00+00:00</th>\n",
       "      <td>0</td>\n",
       "      <td></td>\n",
       "      <td>0.000000</td>\n",
       "      <td>0</td>\n",
       "    </tr>\n",
       "  </tbody>\n",
       "</table>\n",
       "</div>"
      ],
      "text/plain": [
       "                                                                                                                                                                                                                                                                                                                                                                                                                                                                                                                                                                                                                                                                                                                                                                                                                                                                                                              news  \\\n",
       "2020-06-03 00:00:00+00:00                                                                                                                                       Peloton Interactive Inc. (NASDAQ: PTON) has made its fitness app available on Apple Inc.&#39;s (NASDAQ: AAPL) TV devices.Warner Music is set to list at the Nasdaq Stock Market on Wednesday.\\n\\nWarner Music Could Kickstart A String Of IPOs This Year\\n\\nThe record label giant is expected to price the initial public offering between $23 to $26 per share, and raise between $11.7 billion and $13.3 billion. \\n\\nData from Sensor Tower points to Apple Inc. (NASDAQ: AAPL) growing its App Store net revenue by 39% year-over-year in May, and this trend bodes well for the stock, according to Morgan Stanley.Warner Music Group Corp. priced its 77-million-share IPO at $25 per share, and the stock opened higher Wednesday at $27.    \n",
       "2020-06-04 00:00:00+00:00                                                                                                                                                                                                                                                                                                                                                                                                                                                      The shares of Genius Brands International Inc. (NASDAQ: GNUS), a company until recently struggling to keep itself listed on Nasdaq, have added 2458% since May.\\n\\nThe surge has come following a string of operational advancements and investments announced by the children entertainment company.Of the five component FAANG stocks — Facebook, Inc. (NASDAQ: FB), Amazon.com, Inc (NASDAQ: AMZN), Apple, Inc. (NASDAQ: AAPL),    \n",
       "2020-06-05 00:00:00+00:00  Apple Inc. (NASDAQ: AAPL) has weathered the economic impact of the novel coronavirus pandemic in a &#34;Jacques Cousteau-like fashion,&#34; and the consumer electronics company Companies in the United States raised $22.5 billion in the bond market this week, the Financial Times reported on Friday, based on EPFR Global data.FaZe Clan, one of the most prominent gaming organizations, recently celebrated its 10-year anniversary by announcing multiple collaborations and partnerships with different companies.During Friday&#39;s morning session, 115 companies made new 52-week highs.Benzinga&#39;s PreMarket Prep airs every morning from 8-9 a.m. ET. During that fast-paced, highly informative hour, traders and investors tune in to get the major news of the day, the catalysts behind those moves and the corresponding price action for the upcoming session.   \n",
       "2020-06-06 00:00:00+00:00                                                                                                                                                                                                                                                                                                                                                                                                                                                                                                                                                                                                                                                                                                                                                                                                                                                                                        0   \n",
       "2020-06-07 00:00:00+00:00                                                                                                                                                                                                                                                                                                                                                                                                                                                                                                                                                                                                                                                                                                                                                                                                                                                                                        0   \n",
       "\n",
       "                                                                                                                                                                                                                                                                                                                                                                                                                                                                                                                                                                                                                                                                                                                                                                                                                                     processed_news  \\\n",
       "2020-06-03 00:00:00+00:00                                                                                                                                                 peloton interactive inc nasdaq pton has made its fitness app available on apple inc nasdaq aapl tv devices warner music is set to list at the nasdaq stock market on wednesday warner music could kickstart string of ipos this year the record label giant is expected to price the initial public offering between to per share and raise between billion and billion data from sensor tower points to apple inc nasdaq aapl growing its app store net revenue by year over year in may and this trend bodes well for the stock according to morgan stanley warner music group corp priced its million share ipo at per share and the stock opened higher wednesday at    \n",
       "2020-06-04 00:00:00+00:00                                                                                                                                                                                                                                                                                                                                                                                                                              the shares of genius brands international inc nasdaq gnus company until recently struggling to keep itself listed on nasdaq have added since may the surge has come following string of operational advancements and investments announced by the children entertainment company of the five component faang stocks facebook inc nasdaq fb amazon com inc nasdaq amzn apple inc nasdaq aapl    \n",
       "2020-06-05 00:00:00+00:00  apple inc nasdaq aapl has weathered the economic impact of the novel coronavirus pandemic in jacques cousteau like fashion and the consumer electronics company companies in the united states raised billion in the bond market this week the financial times reported on friday based on epfr global data faze clan one of the most prominent gaming organizations recently celebrated its year anniversary by announcing multiple collaborations and partnerships with different companies during friday morning session companies made new week highs benzinga premarket prep airs every morning from et during that fast paced highly informative hour traders and investors tune in to get the major news of the day the catalysts behind those moves and the corresponding price action for the upcoming session    \n",
       "2020-06-06 00:00:00+00:00                                                                                                                                                                                                                                                                                                                                                                                                                                                                                                                                                                                                                                                                                                                                                                                                                             \n",
       "2020-06-07 00:00:00+00:00                                                                                                                                                                                                                                                                                                                                                                                                                                                                                                                                                                                                                                                                                                                                                                                                                             \n",
       "\n",
       "                            returns  market_sentiment  \n",
       "2020-06-03 00:00:00+00:00  0.002149                 1  \n",
       "2020-06-04 00:00:00+00:00  0.008703                 1  \n",
       "2020-06-05 00:00:00+00:00 -0.003126                 0  \n",
       "2020-06-06 00:00:00+00:00  0.017938                 1  \n",
       "2020-06-07 00:00:00+00:00  0.000000                 0  "
      ]
     },
     "execution_count": 11,
     "metadata": {},
     "output_type": "execute_result"
    }
   ],
   "source": [
    "news_sentiment = pd.DataFrame(\n",
    "    {\n",
    "        \"news\": news_series.resample(\"d\").sum(), \n",
    "        \"processed_news\": processed_news, \n",
    "        \"returns\": returns,\n",
    "        \"market_sentiment\": market_sentiment\n",
    "    }, index=news_series.index\n",
    "    ).dropna(axis=0)\n",
    "news_sentiment = news_sentiment.astype({\"market_sentiment\": \"int\"}) # convert True to 1 and False to 0\n",
    "news_sentiment.head()"
   ]
  },
  {
   "cell_type": "markdown",
   "metadata": {},
   "source": [
    "### Sentiment Analysis w/ Vader"
   ]
  },
  {
   "cell_type": "code",
   "execution_count": 12,
   "metadata": {},
   "outputs": [],
   "source": [
    "vader = SentimentIntensityAnalyzer()\n",
    "# New words based on financial journalists lingo \n",
    "new_words = {\n",
    "    'crushes': 10,\n",
    "    'beats': 5,\n",
    "    'misses': -5,\n",
    "    'trouble': -10,\n",
    "    'falls': -100,\n",
    "}\n",
    "# Update the lexicon\n",
    "vader.lexicon.update(new_words)\n",
    "scores = news_sentiment['processed_news'].apply(vader.polarity_scores).tolist()"
   ]
  },
  {
   "cell_type": "code",
   "execution_count": 13,
   "metadata": {},
   "outputs": [],
   "source": [
    "news_sentiment[\"score\"] = np.array([score[\"compound\"] for score in scores])"
   ]
  },
  {
   "cell_type": "code",
   "execution_count": 23,
   "metadata": {},
   "outputs": [
    {
     "data": {
      "text/html": [
       "<div>\n",
       "<style scoped>\n",
       "    .dataframe tbody tr th:only-of-type {\n",
       "        vertical-align: middle;\n",
       "    }\n",
       "\n",
       "    .dataframe tbody tr th {\n",
       "        vertical-align: top;\n",
       "    }\n",
       "\n",
       "    .dataframe thead th {\n",
       "        text-align: right;\n",
       "    }\n",
       "</style>\n",
       "<table border=\"1\" class=\"dataframe\">\n",
       "  <thead>\n",
       "    <tr style=\"text-align: right;\">\n",
       "      <th></th>\n",
       "      <th>news</th>\n",
       "      <th>returns</th>\n",
       "      <th>market_sentiment</th>\n",
       "      <th>score</th>\n",
       "    </tr>\n",
       "  </thead>\n",
       "  <tbody>\n",
       "    <tr>\n",
       "      <th>2020-06-03 00:00:00+00:00</th>\n",
       "      <td>Peloton Interactive Inc. (NASDAQ: PTON) has made its fitness app available on Apple Inc.&amp;#39;s (NASDAQ: AAPL) TV devices.Warner Music is set to list at the Nasdaq Stock Market on Wednesday.\\n\\nWarner Music Could Kickstart A String Of IPOs This Year\\n\\nThe record label giant is expected to price the initial public offering between $23 to $26 per share, and raise between $11.7 billion and $13.3 billion. \\n\\nData from Sensor Tower points to Apple Inc. (NASDAQ: AAPL) growing its App Store net revenue by 39% year-over-year in May, and this trend bodes well for the stock, according to Morgan Stanley.Warner Music Group Corp. priced its 77-million-share IPO at $25 per share, and the stock opened higher Wednesday at $27.</td>\n",
       "      <td>0.002149</td>\n",
       "      <td>1</td>\n",
       "      <td>0.8591</td>\n",
       "    </tr>\n",
       "    <tr>\n",
       "      <th>2020-06-04 00:00:00+00:00</th>\n",
       "      <td>The shares of Genius Brands International Inc. (NASDAQ: GNUS), a company until recently struggling to keep itself listed on Nasdaq, have added 2458% since May.\\n\\nThe surge has come following a string of operational advancements and investments announced by the children entertainment company.Of the five component FAANG stocks — Facebook, Inc. (NASDAQ: FB), Amazon.com, Inc (NASDAQ: AMZN), Apple, Inc. (NASDAQ: AAPL),</td>\n",
       "      <td>0.008703</td>\n",
       "      <td>1</td>\n",
       "      <td>0.4404</td>\n",
       "    </tr>\n",
       "    <tr>\n",
       "      <th>2020-06-05 00:00:00+00:00</th>\n",
       "      <td>Apple Inc. (NASDAQ: AAPL) has weathered the economic impact of the novel coronavirus pandemic in a &amp;#34;Jacques Cousteau-like fashion,&amp;#34; and the consumer electronics company Companies in the United States raised $22.5 billion in the bond market this week, the Financial Times reported on Friday, based on EPFR Global data.FaZe Clan, one of the most prominent gaming organizations, recently celebrated its 10-year anniversary by announcing multiple collaborations and partnerships with different companies.During Friday&amp;#39;s morning session, 115 companies made new 52-week highs.Benzinga&amp;#39;s PreMarket Prep airs every morning from 8-9 a.m. ET. During that fast-paced, highly informative hour, traders and investors tune in to get the major news of the day, the catalysts behind those moves and the corresponding price action for the upcoming session.</td>\n",
       "      <td>-0.003126</td>\n",
       "      <td>0</td>\n",
       "      <td>0.9168</td>\n",
       "    </tr>\n",
       "  </tbody>\n",
       "</table>\n",
       "</div>"
      ],
      "text/plain": [
       "                                                                                                                                                                                                                                                                                                                                                                                                                                                                                                                                                                                                                                                                                                                                                                                                                                                                                                              news  \\\n",
       "2020-06-03 00:00:00+00:00                                                                                                                                       Peloton Interactive Inc. (NASDAQ: PTON) has made its fitness app available on Apple Inc.&#39;s (NASDAQ: AAPL) TV devices.Warner Music is set to list at the Nasdaq Stock Market on Wednesday.\\n\\nWarner Music Could Kickstart A String Of IPOs This Year\\n\\nThe record label giant is expected to price the initial public offering between $23 to $26 per share, and raise between $11.7 billion and $13.3 billion. \\n\\nData from Sensor Tower points to Apple Inc. (NASDAQ: AAPL) growing its App Store net revenue by 39% year-over-year in May, and this trend bodes well for the stock, according to Morgan Stanley.Warner Music Group Corp. priced its 77-million-share IPO at $25 per share, and the stock opened higher Wednesday at $27.    \n",
       "2020-06-04 00:00:00+00:00                                                                                                                                                                                                                                                                                                                                                                                                                                                      The shares of Genius Brands International Inc. (NASDAQ: GNUS), a company until recently struggling to keep itself listed on Nasdaq, have added 2458% since May.\\n\\nThe surge has come following a string of operational advancements and investments announced by the children entertainment company.Of the five component FAANG stocks — Facebook, Inc. (NASDAQ: FB), Amazon.com, Inc (NASDAQ: AMZN), Apple, Inc. (NASDAQ: AAPL),    \n",
       "2020-06-05 00:00:00+00:00  Apple Inc. (NASDAQ: AAPL) has weathered the economic impact of the novel coronavirus pandemic in a &#34;Jacques Cousteau-like fashion,&#34; and the consumer electronics company Companies in the United States raised $22.5 billion in the bond market this week, the Financial Times reported on Friday, based on EPFR Global data.FaZe Clan, one of the most prominent gaming organizations, recently celebrated its 10-year anniversary by announcing multiple collaborations and partnerships with different companies.During Friday&#39;s morning session, 115 companies made new 52-week highs.Benzinga&#39;s PreMarket Prep airs every morning from 8-9 a.m. ET. During that fast-paced, highly informative hour, traders and investors tune in to get the major news of the day, the catalysts behind those moves and the corresponding price action for the upcoming session.   \n",
       "\n",
       "                            returns  market_sentiment   score  \n",
       "2020-06-03 00:00:00+00:00  0.002149                 1  0.8591  \n",
       "2020-06-04 00:00:00+00:00  0.008703                 1  0.4404  \n",
       "2020-06-05 00:00:00+00:00 -0.003126                 0  0.9168  "
      ]
     },
     "execution_count": 23,
     "metadata": {},
     "output_type": "execute_result"
    }
   ],
   "source": [
    "news_sentiment[[\"news\", \"returns\", \"market_sentiment\", \"score\"]].head(3) # score is between -1 and 1\n",
    "# The accuracy looks pretty low."
   ]
  },
  {
   "cell_type": "markdown",
   "metadata": {},
   "source": [
    "### Sentiment Analysis with Vectorization and Naive Bayes Classification"
   ]
  },
  {
   "cell_type": "code",
   "execution_count": 15,
   "metadata": {},
   "outputs": [
    {
     "name": "stdout",
     "output_type": "stream",
     "text": [
      "[[2 0 0 ... 0 0 0]\n",
      " [1 0 0 ... 0 0 0]\n",
      " [1 0 0 ... 0 0 0]\n",
      " ...\n",
      " [2 0 0 ... 0 0 0]\n",
      " [1 0 0 ... 0 0 0]\n",
      " [5 0 0 ... 0 0 0]]\n",
      "<class 'scipy.sparse._csr.csr_matrix'>\n"
     ]
    }
   ],
   "source": [
    "# Vectorization\n",
    "count_vectorizer = CountVectorizer(ngram_range=(1,2))    # Unigram (single words) and Bigram (two consecutive words)\n",
    "final_vectorized_data = count_vectorizer.fit_transform(news_sentiment['processed_news'])  \n",
    "\n",
    "print(final_vectorized_data.toarray())\n",
    "\n",
    "print(type(final_vectorized_data))"
   ]
  },
  {
   "cell_type": "code",
   "execution_count": 16,
   "metadata": {},
   "outputs": [],
   "source": [
    "# Split train-test data\n",
    "X_train, X_test, y_train, y_test = train_test_split(final_vectorized_data, news_sentiment[\"market_sentiment\"],\n",
    "                                                    test_size=0.2, random_state=69)  "
   ]
  },
  {
   "cell_type": "code",
   "execution_count": 17,
   "metadata": {},
   "outputs": [],
   "source": [
    "# Naive Bayes Classifier\n",
    "model_naive = MultinomialNB().fit(X_train, y_train) \n",
    "predicted_naive = model_naive.predict(X_test)"
   ]
  },
  {
   "cell_type": "markdown",
   "metadata": {},
   "source": [
    "### Prediction Accuracy Analysis"
   ]
  },
  {
   "cell_type": "code",
   "execution_count": 18,
   "metadata": {},
   "outputs": [
    {
     "name": "stdout",
     "output_type": "stream",
     "text": [
      "Accuracy with Naive-bayes: 0.6027397260273972\n"
     ]
    }
   ],
   "source": [
    "score_naive = accuracy_score(predicted_naive, y_test)\n",
    "print(\"Accuracy with Naive-bayes:\", score_naive)"
   ]
  },
  {
   "cell_type": "code",
   "execution_count": 19,
   "metadata": {},
   "outputs": [
    {
     "name": "stdout",
     "output_type": "stream",
     "text": [
      "              precision    recall  f1-score   support\n",
      "\n",
      "           0       0.65      0.84      0.73        94\n",
      "           1       0.38      0.17      0.24        52\n",
      "\n",
      "    accuracy                           0.60       146\n",
      "   macro avg       0.51      0.51      0.48       146\n",
      "weighted avg       0.55      0.60      0.56       146\n",
      "\n"
     ]
    }
   ],
   "source": [
    "print(classification_report(y_test, predicted_naive))"
   ]
  },
  {
   "cell_type": "code",
   "execution_count": 20,
   "metadata": {},
   "outputs": [
    {
     "data": {
      "image/png": "[encoded data removed]",
      "text/plain": [
       "<Figure size 600x400 with 1 Axes>"
      ]
     },
     "metadata": {
      "needs_background": "light"
     },
     "output_type": "display_data"
    }
   ],
   "source": [
    "# calculate the fpr and tpr for all thresholds of the classification\n",
    "probs = model_naive.predict_proba(X_test)\n",
    "preds = probs[:,1]\n",
    "fpr, tpr, threshold = roc_curve(y_test, preds)\n",
    "roc_auc = auc(fpr, tpr)\n",
    "plt.figure(dpi=100)                       # to plot high quality graph\n",
    "plt.title('Receiver Operating Characteristic')\n",
    "plt.plot(fpr, tpr, 'b', label = 'AUC = %0.2f' % roc_auc)\n",
    "plt.legend(loc = 'lower right')\n",
    "plt.plot([0, 1], [0, 1],'r--')\n",
    "plt.ylabel('True Positive Rate', color='g')\n",
    "plt.xlabel('False Positive Rate', color='r')\n",
    "plt.show()"
   ]
  }
 ],
 "metadata": {
  "kernelspec": {
   "display_name": "Python 3.10.4 ('master-data-analytics')",
   "language": "python",
   "name": "python3"
  },
  "language_info": {
   "codemirror_mode": {
    "name": "ipython",
    "version": 3
   },
   "file_extension": ".py",
   "mimetype": "text/x-python",
   "name": "python",
   "nbconvert_exporter": "python",
   "pygments_lexer": "ipython3",
   "version": "3.10.4"
  },
  "orig_nbformat": 4,
  "vscode": {
   "interpreter": {
    "hash": "6036adac460740e43132ebf835365b0c00650083cefb4f7f8a0f3d025846cffa"
   }
  }
 },
 "nbformat": 4,
 "nbformat_minor": 2
}
