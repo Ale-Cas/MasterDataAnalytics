{
 "cells": [
  {
   "cell_type": "code",
   "execution_count": 7,
   "metadata": {},
   "outputs": [],
   "source": [
    "import numpy as np\n",
    "import pandas as pd\n",
    "import scipy\n",
    "\n",
    "from sklearn.datasets import load_breast_cancer\n",
    "from sklearn.model_selection import train_test_split\n",
    "from sklearn.metrics import confusion_matrix, f1_score, accuracy_score\n",
    "\n",
    "import matplotlib.pyplot as plt"
   ]
  },
  {
   "cell_type": "code",
   "execution_count": 8,
   "metadata": {},
   "outputs": [],
   "source": [
    "cancer = load_breast_cancer()\n",
    "data = pd.DataFrame(data=cancer.data, columns=cancer.feature_names) # data from library"
   ]
  },
  {
   "cell_type": "code",
   "execution_count": 9,
   "metadata": {},
   "outputs": [],
   "source": [
    "diagnosis = pd.Series(cancer.target, name= \"diagnosis\")"
   ]
  },
  {
   "cell_type": "code",
   "execution_count": 10,
   "metadata": {},
   "outputs": [],
   "source": [
    "sel_features = [\"mean radius\", \"mean texture\", \"mean smoothness\"]\n",
    "dataset = pd.concat([data.loc[:,sel_features], diagnosis], axis=1)"
   ]
  },
  {
   "cell_type": "code",
   "execution_count": 31,
   "metadata": {},
   "outputs": [
    {
     "data": {
      "text/plain": [
       "0.0"
      ]
     },
     "execution_count": 31,
     "metadata": {},
     "output_type": "execute_result"
    }
   ],
   "source": [
    "dataset.iloc[2][\"diagnosis\"]"
   ]
  },
  {
   "cell_type": "code",
   "execution_count": 12,
   "metadata": {},
   "outputs": [],
   "source": [
    "def calculate_prior_probability(df, Y):\n",
    "    classes = sorted(list(df[Y].unique()))\n",
    "    prior_val = []\n",
    "    for i in classes:\n",
    "        prior_val.append(len(df[df[Y]==i])/len(df))\n",
    "    print(prior_val)\n",
    "    return prior_val"
   ]
  },
  {
   "cell_type": "code",
   "execution_count": 13,
   "metadata": {},
   "outputs": [],
   "source": [
    "def cal_likelihood_gau(df, feat_name, feat_val, Y, label):\n",
    "    feat = list(df.columns)\n",
    "    df = df[df[Y]==label]\n",
    "    mean, std = df[feat_name].mean(), df[feat_name].std()\n",
    "    pro_x_given_y = (1 / (np.sqrt(2 * np.pi) * std)) *  np.exp(-((feat_val-mean)**2 / (2 * std**2 )))\n",
    "    return pro_x_given_y"
   ]
  },
  {
   "cell_type": "code",
   "execution_count": 14,
   "metadata": {},
   "outputs": [],
   "source": [
    "def naive_bayes_gaussian(df, X, Y):\n",
    "    # get all of the features in your dataset \n",
    "    features = list(df.columns)[:-1]\n",
    "\n",
    "    # calculate prior probability using  calculate_prior_probability function\n",
    "    prior = calculate_prior_probability(df, Y)\n",
    "\n",
    "    Y_pred = []\n",
    "    # apply loop over the sample and create likelihood using cal_likelihood_gau function.\n",
    "    for x in X:\n",
    "        labels = sorted(list(df[Y].unique()))\n",
    "        likelihood = [1]*len(labels)\n",
    "        for j in range(len(labels)):\n",
    "            for i in range(len(features)):\n",
    "                likelihood[j] *=cal_likelihood_gau(df, features[i], x[i], Y, labels[j])\n",
    "\n",
    "        # calculate all of the possible posterior value \n",
    "        post_prob = [1]*len(labels)\n",
    "        for j in range(len(labels)):\n",
    "            post_prob[j] = likelihood[j] * prior[j]\n",
    "        \n",
    "       # Find the maximum posterior value which is the expected output.\n",
    "        Y_pred.append(np.argmax(post_prob))\n",
    "\n",
    "    return np.array(Y_pred) "
   ]
  },
  {
   "cell_type": "code",
   "execution_count": 34,
   "metadata": {},
   "outputs": [
    {
     "name": "stdout",
     "output_type": "stream",
     "text": [
      "[0.378021978021978, 0.621978021978022]\n",
      "[[36  4]\n",
      " [ 0 74]]\n",
      "0.9736842105263158\n"
     ]
    }
   ],
   "source": [
    "from sklearn.model_selection import train_test_split\n",
    "train, test = train_test_split(dataset, test_size=.2, random_state=41)\n",
    "\n",
    "X_test = test.iloc[:,:-1].values\n",
    "Y_test = test.iloc[:,-1].values\n",
    "Y_pred = naive_bayes_gaussian(train, X=X_test, Y=\"diagnosis\")\n",
    "\n",
    "from sklearn.metrics import confusion_matrix, f1_score\n",
    "print(confusion_matrix(Y_test, Y_pred))\n",
    "print(f1_score(Y_test, Y_pred))"
   ]
  },
  {
   "cell_type": "code",
   "execution_count": 15,
   "metadata": {},
   "outputs": [],
   "source": [
    "class NaiveBayesClassifier:\n",
    "    \"\"\"\n",
    "    Class to represent a Naive Bayes Classifier.\n",
    "    \"\"\"\n",
    "\n",
    "    def __init__(self, dataset: pd.DataFrame, test_size: float = 0.2) -> None:\n",
    "        \"\"\"\n",
    "        Initialization of the Naive Bayes Classifier instance.\n",
    "        Input validation and train-test split.\n",
    "\n",
    "        Parameters\n",
    "        ----------\n",
    "        dataset : pd.DataFrame\n",
    "\n",
    "        test_size: float\n",
    "            default = 0.2\n",
    "            must be between 0.0 and 1.0\n",
    "        \"\"\"\n",
    "        if not isinstance(dataset, pd.DataFrame):\n",
    "            raise ValueError(\"The dataset must be a pandas DataFrame.\")\n",
    "        if not isinstance(test_size, float):\n",
    "            raise ValueError(\"The test_size must be a floating number\")\n",
    "        if test_size < 0.0:\n",
    "            raise ValueError(\"The test_size must be greater than 0.\")\n",
    "        if test_size > 1.0:\n",
    "            raise ValueError(\"The test_size must be less than 1.\")\n",
    "        train_data, test_data = train_test_split(\n",
    "            dataset, test_size=test_size, random_state=41\n",
    "        )\n",
    "        self.train_features: pd.DataFrame = train_data.iloc[:, :-1]\n",
    "        self.train_labels: pd.Series = train_data.iloc[:, -1]\n",
    "        self.test_features: pd.DataFrame = test_data.iloc[:, :-1]\n",
    "        self.test_labels: pd.Series = test_data.iloc[:, -1]\n",
    "\n",
    "    def plot_features_histograms(self) -> None:\n",
    "        def draw_histograms(df, variables, n_rows: int = 1, n_cols: int = 1):\n",
    "            fig = plt.figure()\n",
    "            for i, var_name in enumerate(variables):\n",
    "                ax = fig.add_subplot(n_rows, n_cols, i + 1)\n",
    "                df[var_name].hist(bins=10, ax=ax)\n",
    "                ax.set_title(\"Distribution of \" + var_name)\n",
    "            fig.tight_layout()  # Improves appearance a bit.\n",
    "            plt.show()\n",
    "\n",
    "        draw_histograms(self.train_features, self.features, len(self.features), 1)\n",
    "\n",
    "    @property\n",
    "    def n_train_samples(self) -> int:\n",
    "        return len(self.train_features.index)\n",
    "\n",
    "    @property\n",
    "    def n_test_samples(self) -> int:\n",
    "        return len(self.test_features.index)\n",
    "\n",
    "    @property\n",
    "    def features(self) -> pd.Index:\n",
    "        return self.train_features.columns\n",
    "\n",
    "    @property\n",
    "    def labels(self) -> np.ndarray:\n",
    "        return sorted(self.train_labels.unique())\n",
    "\n",
    "    @property\n",
    "    def prior(self) -> pd.DataFrame:\n",
    "        \"\"\"\n",
    "        Method to calculate the prior probability associated to each label.\n",
    "        It takes into consideration only the TRAIN labels.\n",
    "\n",
    "        Returns\n",
    "        -------\n",
    "        priors: pd.DataFrame\n",
    "            A dataframe where each label is mapped to its prior.\n",
    "        \"\"\"\n",
    "        _prior = pd.DataFrame(columns=self.labels)\n",
    "        for label in self.labels:\n",
    "            _prior[label] = pd.Series(\n",
    "                len(self.train_labels[self.train_labels == label])\n",
    "                / len(self.train_labels)\n",
    "            )\n",
    "        return _prior\n",
    "\n",
    "    def likelihood(self) -> pd.DataFrame:\n",
    "        \"\"\"\n",
    "        Method to calculate the likelihood.\n",
    "\n",
    "        Returns\n",
    "        -------\n",
    "        A pandas DataFrame with a probability for each label and each test observation.\n",
    "        \"\"\"\n",
    "\n",
    "        # def gaussian_pdf(x: float, mu: float, sigma_squared: float) -> pd.Series:\n",
    "        #     sigma = np.sqrt(sigma_squared)\n",
    "        #     numerator = np.exp(-(((x - mu) / sigma) ** 2) * 0.5)\n",
    "        #     denominator = np.sqrt(2 * np.pi * sigma_squared)\n",
    "        #     pdf = numerator / denominator\n",
    "        #     return pdf\n",
    "\n",
    "        _likelihood = pd.DataFrame(\n",
    "            data=np.ones(shape=(len(self.test_features.index), len(self.labels))),\n",
    "            columns=self.labels,\n",
    "        )\n",
    "        _mean = pd.DataFrame(columns=self.labels)\n",
    "        _variance = pd.DataFrame(columns=self.labels)\n",
    "        for label in self.labels:\n",
    "            _features_per_label = self.train_features[label == self.train_labels]\n",
    "            _mean[label] = _features_per_label.mean()\n",
    "            _variance[label] = _features_per_label.var()\n",
    "            for feature in self.features:\n",
    "                # _likelihood[label] *= gaussian_pdf(\n",
    "                #     self.test_features[feature],\n",
    "                #     _mean[label][feature],\n",
    "                #     _variance[label][feature],\n",
    "                # )\n",
    "                _likelihood[label] *= scipy.stats.norm(\n",
    "                    _mean[label][feature], _variance[label][feature]\n",
    "                ).pdf(self.test_features[feature])\n",
    "        assert not _likelihood.empty\n",
    "        return _likelihood\n",
    "\n",
    "    @property\n",
    "    def normalization(self) -> pd.Series:\n",
    "        _norm = 0\n",
    "        for label in self.labels:\n",
    "            _norm += self.likelihood()[label] * self.prior[label].values\n",
    "        return _norm\n",
    "\n",
    "    @property\n",
    "    def posterior(self) -> pd.DataFrame:\n",
    "        \"\"\"\n",
    "        Method to calculate the posterior probability associated to each label.\n",
    "\n",
    "        Returns\n",
    "        -------\n",
    "        posteriors: pd.DataFrame\n",
    "            A series where each label is mapped to its posterior.\n",
    "        \"\"\"\n",
    "        _posterior = pd.DataFrame(columns=self.labels)\n",
    "        for label in self.labels:\n",
    "            _posterior[label] = (\n",
    "                self.prior[label].values * self.likelihood()[label] / self.normalization\n",
    "            )\n",
    "        return _posterior\n",
    "\n",
    "    def prediction(self) -> pd.Series:\n",
    "        pred = self.posterior.apply(np.argmax, axis=1)\n",
    "        return pred\n",
    "\n",
    "    def print_accuracy(self) -> None:\n",
    "        my_accuracy_score = accuracy_score(\n",
    "            self.test_labels, self.prediction(), normalize=True\n",
    "        )\n",
    "        my_confusion_matrix = confusion_matrix(self.test_labels, self.prediction())\n",
    "        my_f1_score = f1_score(self.test_labels, self.prediction())\n",
    "\n",
    "        print(\"{0:<15} {1:>15}\".format(\"my accuracy\", my_accuracy_score))\n",
    "        print(\"{0:<15} {1:>15}\".format(\"my f1\", my_f1_score))\n",
    "        print(\"my confusion matrix: \\n\", my_confusion_matrix)"
   ]
  },
  {
   "cell_type": "code",
   "execution_count": 16,
   "metadata": {},
   "outputs": [],
   "source": [
    "bayes = NaiveBayesClassifier(dataset=dataset)"
   ]
  },
  {
   "cell_type": "code",
   "execution_count": 17,
   "metadata": {},
   "outputs": [
    {
     "data": {
      "image/png": "[encoded data removed]",
      "text/plain": [
       "<Figure size 432x288 with 3 Axes>"
      ]
     },
     "metadata": {
      "needs_background": "light"
     },
     "output_type": "display_data"
    }
   ],
   "source": [
    "bayes.plot_features_histograms()"
   ]
  },
  {
   "cell_type": "code",
   "execution_count": 18,
   "metadata": {},
   "outputs": [
    {
     "data": {
      "text/html": [
       "<div>\n",
       "<style scoped>\n",
       "    .dataframe tbody tr th:only-of-type {\n",
       "        vertical-align: middle;\n",
       "    }\n",
       "\n",
       "    .dataframe tbody tr th {\n",
       "        vertical-align: top;\n",
       "    }\n",
       "\n",
       "    .dataframe thead th {\n",
       "        text-align: right;\n",
       "    }\n",
       "</style>\n",
       "<table border=\"1\" class=\"dataframe\">\n",
       "  <thead>\n",
       "    <tr style=\"text-align: right;\">\n",
       "      <th></th>\n",
       "      <th>0</th>\n",
       "      <th>1</th>\n",
       "    </tr>\n",
       "  </thead>\n",
       "  <tbody>\n",
       "    <tr>\n",
       "      <th>0</th>\n",
       "      <td>0.378022</td>\n",
       "      <td>0.621978</td>\n",
       "    </tr>\n",
       "  </tbody>\n",
       "</table>\n",
       "</div>"
      ],
      "text/plain": [
       "          0         1\n",
       "0  0.378022  0.621978"
      ]
     },
     "execution_count": 18,
     "metadata": {},
     "output_type": "execute_result"
    }
   ],
   "source": [
    "bayes.prior"
   ]
  },
  {
   "cell_type": "markdown",
   "metadata": {},
   "source": [
    "Il problema è che la likelihood è molto vicina a 0, questo avviene soprattutto se prendiamo in considerazione anche la terza colonna"
   ]
  },
  {
   "cell_type": "code",
   "execution_count": 19,
   "metadata": {},
   "outputs": [
    {
     "data": {
      "text/html": [
       "<div>\n",
       "<style scoped>\n",
       "    .dataframe tbody tr th:only-of-type {\n",
       "        vertical-align: middle;\n",
       "    }\n",
       "\n",
       "    .dataframe tbody tr th {\n",
       "        vertical-align: top;\n",
       "    }\n",
       "\n",
       "    .dataframe thead th {\n",
       "        text-align: right;\n",
       "    }\n",
       "</style>\n",
       "<table border=\"1\" class=\"dataframe\">\n",
       "  <thead>\n",
       "    <tr style=\"text-align: right;\">\n",
       "      <th></th>\n",
       "      <th>0</th>\n",
       "      <th>1</th>\n",
       "    </tr>\n",
       "  </thead>\n",
       "  <tbody>\n",
       "    <tr>\n",
       "      <th>0</th>\n",
       "      <td>0.000000e+00</td>\n",
       "      <td>0.000000e+00</td>\n",
       "    </tr>\n",
       "    <tr>\n",
       "      <th>1</th>\n",
       "      <td>0.000000e+00</td>\n",
       "      <td>1.086443e-75</td>\n",
       "    </tr>\n",
       "    <tr>\n",
       "      <th>2</th>\n",
       "      <td>0.000000e+00</td>\n",
       "      <td>0.000000e+00</td>\n",
       "    </tr>\n",
       "    <tr>\n",
       "      <th>3</th>\n",
       "      <td>2.490445e-160</td>\n",
       "      <td>0.000000e+00</td>\n",
       "    </tr>\n",
       "    <tr>\n",
       "      <th>4</th>\n",
       "      <td>0.000000e+00</td>\n",
       "      <td>0.000000e+00</td>\n",
       "    </tr>\n",
       "    <tr>\n",
       "      <th>...</th>\n",
       "      <td>...</td>\n",
       "      <td>...</td>\n",
       "    </tr>\n",
       "    <tr>\n",
       "      <th>109</th>\n",
       "      <td>2.121806e-02</td>\n",
       "      <td>0.000000e+00</td>\n",
       "    </tr>\n",
       "    <tr>\n",
       "      <th>110</th>\n",
       "      <td>0.000000e+00</td>\n",
       "      <td>0.000000e+00</td>\n",
       "    </tr>\n",
       "    <tr>\n",
       "      <th>111</th>\n",
       "      <td>5.798454e-59</td>\n",
       "      <td>0.000000e+00</td>\n",
       "    </tr>\n",
       "    <tr>\n",
       "      <th>112</th>\n",
       "      <td>0.000000e+00</td>\n",
       "      <td>0.000000e+00</td>\n",
       "    </tr>\n",
       "    <tr>\n",
       "      <th>113</th>\n",
       "      <td>0.000000e+00</td>\n",
       "      <td>1.205762e-155</td>\n",
       "    </tr>\n",
       "  </tbody>\n",
       "</table>\n",
       "<p>114 rows × 2 columns</p>\n",
       "</div>"
      ],
      "text/plain": [
       "                 0              1\n",
       "0     0.000000e+00   0.000000e+00\n",
       "1     0.000000e+00   1.086443e-75\n",
       "2     0.000000e+00   0.000000e+00\n",
       "3    2.490445e-160   0.000000e+00\n",
       "4     0.000000e+00   0.000000e+00\n",
       "..             ...            ...\n",
       "109   2.121806e-02   0.000000e+00\n",
       "110   0.000000e+00   0.000000e+00\n",
       "111   5.798454e-59   0.000000e+00\n",
       "112   0.000000e+00   0.000000e+00\n",
       "113   0.000000e+00  1.205762e-155\n",
       "\n",
       "[114 rows x 2 columns]"
      ]
     },
     "execution_count": 19,
     "metadata": {},
     "output_type": "execute_result"
    }
   ],
   "source": [
    "bayes.likelihood()"
   ]
  },
  {
   "cell_type": "code",
   "execution_count": 21,
   "metadata": {},
   "outputs": [
    {
     "data": {
      "text/plain": [
       "0       0.000000e+00\n",
       "1       6.757437e-76\n",
       "2       0.000000e+00\n",
       "3      9.414431e-161\n",
       "4       0.000000e+00\n",
       "           ...      \n",
       "109     8.020892e-03\n",
       "110     0.000000e+00\n",
       "111     2.191943e-59\n",
       "112     0.000000e+00\n",
       "113    7.499576e-156\n",
       "Name: 0, Length: 114, dtype: float64"
      ]
     },
     "execution_count": 21,
     "metadata": {},
     "output_type": "execute_result"
    }
   ],
   "source": [
    "bayes.normalization"
   ]
  },
  {
   "cell_type": "markdown",
   "metadata": {},
   "source": [
    "Dato che sia la likelihood che i fattori di normalizzazione tendono a zero la posterior è piena di 0 e NaN"
   ]
  },
  {
   "cell_type": "code",
   "execution_count": 20,
   "metadata": {},
   "outputs": [
    {
     "data": {
      "text/html": [
       "<div>\n",
       "<style scoped>\n",
       "    .dataframe tbody tr th:only-of-type {\n",
       "        vertical-align: middle;\n",
       "    }\n",
       "\n",
       "    .dataframe tbody tr th {\n",
       "        vertical-align: top;\n",
       "    }\n",
       "\n",
       "    .dataframe thead th {\n",
       "        text-align: right;\n",
       "    }\n",
       "</style>\n",
       "<table border=\"1\" class=\"dataframe\">\n",
       "  <thead>\n",
       "    <tr style=\"text-align: right;\">\n",
       "      <th></th>\n",
       "      <th>0</th>\n",
       "      <th>1</th>\n",
       "    </tr>\n",
       "  </thead>\n",
       "  <tbody>\n",
       "    <tr>\n",
       "      <th>0</th>\n",
       "      <td>NaN</td>\n",
       "      <td>NaN</td>\n",
       "    </tr>\n",
       "    <tr>\n",
       "      <th>1</th>\n",
       "      <td>0.0</td>\n",
       "      <td>1.0</td>\n",
       "    </tr>\n",
       "    <tr>\n",
       "      <th>2</th>\n",
       "      <td>NaN</td>\n",
       "      <td>NaN</td>\n",
       "    </tr>\n",
       "    <tr>\n",
       "      <th>3</th>\n",
       "      <td>1.0</td>\n",
       "      <td>0.0</td>\n",
       "    </tr>\n",
       "    <tr>\n",
       "      <th>4</th>\n",
       "      <td>NaN</td>\n",
       "      <td>NaN</td>\n",
       "    </tr>\n",
       "    <tr>\n",
       "      <th>...</th>\n",
       "      <td>...</td>\n",
       "      <td>...</td>\n",
       "    </tr>\n",
       "    <tr>\n",
       "      <th>109</th>\n",
       "      <td>1.0</td>\n",
       "      <td>0.0</td>\n",
       "    </tr>\n",
       "    <tr>\n",
       "      <th>110</th>\n",
       "      <td>NaN</td>\n",
       "      <td>NaN</td>\n",
       "    </tr>\n",
       "    <tr>\n",
       "      <th>111</th>\n",
       "      <td>1.0</td>\n",
       "      <td>0.0</td>\n",
       "    </tr>\n",
       "    <tr>\n",
       "      <th>112</th>\n",
       "      <td>NaN</td>\n",
       "      <td>NaN</td>\n",
       "    </tr>\n",
       "    <tr>\n",
       "      <th>113</th>\n",
       "      <td>0.0</td>\n",
       "      <td>1.0</td>\n",
       "    </tr>\n",
       "  </tbody>\n",
       "</table>\n",
       "<p>114 rows × 2 columns</p>\n",
       "</div>"
      ],
      "text/plain": [
       "       0    1\n",
       "0    NaN  NaN\n",
       "1    0.0  1.0\n",
       "2    NaN  NaN\n",
       "3    1.0  0.0\n",
       "4    NaN  NaN\n",
       "..   ...  ...\n",
       "109  1.0  0.0\n",
       "110  NaN  NaN\n",
       "111  1.0  0.0\n",
       "112  NaN  NaN\n",
       "113  0.0  1.0\n",
       "\n",
       "[114 rows x 2 columns]"
      ]
     },
     "execution_count": 20,
     "metadata": {},
     "output_type": "execute_result"
    }
   ],
   "source": [
    "bayes.posterior"
   ]
  },
  {
   "cell_type": "markdown",
   "metadata": {},
   "source": [
    "Se elimino la terza colonna delle caratteristiche \n",
    "(che avendo valori molto piccoli ha media prossima a zero)\n",
    "allora non ci sono problemi!"
   ]
  },
  {
   "cell_type": "code",
   "execution_count": 22,
   "metadata": {},
   "outputs": [
    {
     "data": {
      "text/html": [
       "<div>\n",
       "<style scoped>\n",
       "    .dataframe tbody tr th:only-of-type {\n",
       "        vertical-align: middle;\n",
       "    }\n",
       "\n",
       "    .dataframe tbody tr th {\n",
       "        vertical-align: top;\n",
       "    }\n",
       "\n",
       "    .dataframe thead th {\n",
       "        text-align: right;\n",
       "    }\n",
       "</style>\n",
       "<table border=\"1\" class=\"dataframe\">\n",
       "  <thead>\n",
       "    <tr style=\"text-align: right;\">\n",
       "      <th></th>\n",
       "      <th>0</th>\n",
       "      <th>1</th>\n",
       "    </tr>\n",
       "  </thead>\n",
       "  <tbody>\n",
       "    <tr>\n",
       "      <th>0</th>\n",
       "      <td>0.001019</td>\n",
       "      <td>0.002870</td>\n",
       "    </tr>\n",
       "    <tr>\n",
       "      <th>1</th>\n",
       "      <td>0.001010</td>\n",
       "      <td>0.002069</td>\n",
       "    </tr>\n",
       "    <tr>\n",
       "      <th>2</th>\n",
       "      <td>0.001024</td>\n",
       "      <td>0.002141</td>\n",
       "    </tr>\n",
       "    <tr>\n",
       "      <th>3</th>\n",
       "      <td>0.001019</td>\n",
       "      <td>0.002862</td>\n",
       "    </tr>\n",
       "    <tr>\n",
       "      <th>4</th>\n",
       "      <td>0.000984</td>\n",
       "      <td>0.002880</td>\n",
       "    </tr>\n",
       "    <tr>\n",
       "      <th>...</th>\n",
       "      <td>...</td>\n",
       "      <td>...</td>\n",
       "    </tr>\n",
       "    <tr>\n",
       "      <th>109</th>\n",
       "      <td>0.001003</td>\n",
       "      <td>0.002857</td>\n",
       "    </tr>\n",
       "    <tr>\n",
       "      <th>110</th>\n",
       "      <td>0.000692</td>\n",
       "      <td>0.001869</td>\n",
       "    </tr>\n",
       "    <tr>\n",
       "      <th>111</th>\n",
       "      <td>0.001070</td>\n",
       "      <td>0.002654</td>\n",
       "    </tr>\n",
       "    <tr>\n",
       "      <th>112</th>\n",
       "      <td>0.000911</td>\n",
       "      <td>0.002732</td>\n",
       "    </tr>\n",
       "    <tr>\n",
       "      <th>113</th>\n",
       "      <td>0.001028</td>\n",
       "      <td>0.002510</td>\n",
       "    </tr>\n",
       "  </tbody>\n",
       "</table>\n",
       "<p>114 rows × 2 columns</p>\n",
       "</div>"
      ],
      "text/plain": [
       "            0         1\n",
       "0    0.001019  0.002870\n",
       "1    0.001010  0.002069\n",
       "2    0.001024  0.002141\n",
       "3    0.001019  0.002862\n",
       "4    0.000984  0.002880\n",
       "..        ...       ...\n",
       "109  0.001003  0.002857\n",
       "110  0.000692  0.001869\n",
       "111  0.001070  0.002654\n",
       "112  0.000911  0.002732\n",
       "113  0.001028  0.002510\n",
       "\n",
       "[114 rows x 2 columns]"
      ]
     },
     "execution_count": 22,
     "metadata": {},
     "output_type": "execute_result"
    }
   ],
   "source": [
    "sel_features = [\"mean radius\", \"mean texture\"]\n",
    "dataset = pd.concat([data.loc[:,sel_features], diagnosis], axis=1)\n",
    "bayes = NaiveBayesClassifier(dataset=dataset)\n",
    "bayes.likelihood()"
   ]
  },
  {
   "cell_type": "code",
   "execution_count": 23,
   "metadata": {},
   "outputs": [
    {
     "data": {
      "text/plain": [
       "0      0.002171\n",
       "1      0.001669\n",
       "2      0.001719\n",
       "3      0.002165\n",
       "4      0.002163\n",
       "         ...   \n",
       "109    0.002156\n",
       "110    0.001424\n",
       "111    0.002055\n",
       "112    0.002044\n",
       "113    0.001949\n",
       "Name: 0, Length: 114, dtype: float64"
      ]
     },
     "execution_count": 23,
     "metadata": {},
     "output_type": "execute_result"
    }
   ],
   "source": [
    "bayes.normalization"
   ]
  },
  {
   "cell_type": "code",
   "execution_count": 24,
   "metadata": {},
   "outputs": [
    {
     "data": {
      "text/html": [
       "<div>\n",
       "<style scoped>\n",
       "    .dataframe tbody tr th:only-of-type {\n",
       "        vertical-align: middle;\n",
       "    }\n",
       "\n",
       "    .dataframe tbody tr th {\n",
       "        vertical-align: top;\n",
       "    }\n",
       "\n",
       "    .dataframe thead th {\n",
       "        text-align: right;\n",
       "    }\n",
       "</style>\n",
       "<table border=\"1\" class=\"dataframe\">\n",
       "  <thead>\n",
       "    <tr style=\"text-align: right;\">\n",
       "      <th></th>\n",
       "      <th>0</th>\n",
       "      <th>1</th>\n",
       "    </tr>\n",
       "  </thead>\n",
       "  <tbody>\n",
       "    <tr>\n",
       "      <th>0</th>\n",
       "      <td>0.177452</td>\n",
       "      <td>0.822548</td>\n",
       "    </tr>\n",
       "    <tr>\n",
       "      <th>1</th>\n",
       "      <td>0.228847</td>\n",
       "      <td>0.771153</td>\n",
       "    </tr>\n",
       "    <tr>\n",
       "      <th>2</th>\n",
       "      <td>0.225221</td>\n",
       "      <td>0.774779</td>\n",
       "    </tr>\n",
       "    <tr>\n",
       "      <th>3</th>\n",
       "      <td>0.177817</td>\n",
       "      <td>0.822183</td>\n",
       "    </tr>\n",
       "    <tr>\n",
       "      <th>4</th>\n",
       "      <td>0.172017</td>\n",
       "      <td>0.827983</td>\n",
       "    </tr>\n",
       "    <tr>\n",
       "      <th>...</th>\n",
       "      <td>...</td>\n",
       "      <td>...</td>\n",
       "    </tr>\n",
       "    <tr>\n",
       "      <th>109</th>\n",
       "      <td>0.175817</td>\n",
       "      <td>0.824183</td>\n",
       "    </tr>\n",
       "    <tr>\n",
       "      <th>110</th>\n",
       "      <td>0.183749</td>\n",
       "      <td>0.816251</td>\n",
       "    </tr>\n",
       "    <tr>\n",
       "      <th>111</th>\n",
       "      <td>0.196729</td>\n",
       "      <td>0.803271</td>\n",
       "    </tr>\n",
       "    <tr>\n",
       "      <th>112</th>\n",
       "      <td>0.168513</td>\n",
       "      <td>0.831487</td>\n",
       "    </tr>\n",
       "    <tr>\n",
       "      <th>113</th>\n",
       "      <td>0.199308</td>\n",
       "      <td>0.800692</td>\n",
       "    </tr>\n",
       "  </tbody>\n",
       "</table>\n",
       "<p>114 rows × 2 columns</p>\n",
       "</div>"
      ],
      "text/plain": [
       "            0         1\n",
       "0    0.177452  0.822548\n",
       "1    0.228847  0.771153\n",
       "2    0.225221  0.774779\n",
       "3    0.177817  0.822183\n",
       "4    0.172017  0.827983\n",
       "..        ...       ...\n",
       "109  0.175817  0.824183\n",
       "110  0.183749  0.816251\n",
       "111  0.196729  0.803271\n",
       "112  0.168513  0.831487\n",
       "113  0.199308  0.800692\n",
       "\n",
       "[114 rows x 2 columns]"
      ]
     },
     "execution_count": 24,
     "metadata": {},
     "output_type": "execute_result"
    }
   ],
   "source": [
    "bayes.posterior"
   ]
  },
  {
   "cell_type": "code",
   "execution_count": 25,
   "metadata": {},
   "outputs": [
    {
     "data": {
      "text/plain": [
       "0      1\n",
       "1      1\n",
       "2      1\n",
       "3      1\n",
       "4      1\n",
       "      ..\n",
       "109    1\n",
       "110    1\n",
       "111    1\n",
       "112    1\n",
       "113    1\n",
       "Length: 114, dtype: int64"
      ]
     },
     "execution_count": 25,
     "metadata": {},
     "output_type": "execute_result"
    }
   ],
   "source": [
    "bayes.prediction()"
   ]
  },
  {
   "cell_type": "code",
   "execution_count": 26,
   "metadata": {},
   "outputs": [
    {
     "name": "stdout",
     "output_type": "stream",
     "text": [
      "my accuracy     0.8596491228070176\n",
      "my f1           0.9024390243902439\n",
      "my confusion matrix: \n",
      " [[24 16]\n",
      " [ 0 74]]\n"
     ]
    }
   ],
   "source": [
    "bayes.print_accuracy()"
   ]
  }
 ],
 "metadata": {
  "interpreter": {
   "hash": "6a7b2268707773985d0848bd643314d3946725cf7770157f941785e3082854a3"
  },
  "kernelspec": {
   "display_name": "Python 3.9.10 ('masterdata')",
   "language": "python",
   "name": "python3"
  },
  "language_info": {
   "codemirror_mode": {
    "name": "ipython",
    "version": 3
   },
   "file_extension": ".py",
   "mimetype": "text/x-python",
   "name": "python",
   "nbconvert_exporter": "python",
   "pygments_lexer": "ipython3",
   "version": "3.10.4"
  },
  "orig_nbformat": 4
 },
 "nbformat": 4,
 "nbformat_minor": 2
}
